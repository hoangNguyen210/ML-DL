{
 "cells": [
  {
   "cell_type": "markdown",
   "metadata": {
    "id": "yB6nHgeqesbW"
   },
   "source": [
    "### Bài thực hành Lab 02\n",
    "\n",
    "### Nguyễn Minh Hoàng 18110095"
   ]
  },
  {
   "cell_type": "code",
   "execution_count": 1,
   "metadata": {
    "id": "OsQ8kW72xJjt"
   },
   "outputs": [],
   "source": [
    "import numpy as np\n",
    "import tensorflow as tf\n",
    "import os\n",
    "import random \n",
    "\n",
    "from tensorflow import keras\n",
    "from keras import backend as K\n",
    "from sklearn.model_selection import train_test_split\n",
    "from tensorflow.keras.models import Sequential\n",
    "from tensorflow.keras.layers import (\n",
    "                Dense, Activation, \n",
    "                Dropout, Flatten, \n",
    "                Conv2D, MaxPooling2D,\n",
    "                 BatchNormalization\n",
    "                )\n",
    "from tensorflow.keras import regularizers"
   ]
  },
  {
   "cell_type": "code",
   "execution_count": 2,
   "metadata": {
    "id": "Se_fAAo7y_hQ"
   },
   "outputs": [],
   "source": [
    "(X_train, y_train), (X_test, y_test) = tf.keras.datasets.cifar10.load_data()"
   ]
  },
  {
   "cell_type": "code",
   "execution_count": 3,
   "metadata": {
    "colab": {
     "base_uri": "https://localhost:8080/",
     "height": 265
    },
    "id": "XGyojAF_zEQx",
    "outputId": "27abd857-1efa-4b60-b38e-bcc08723cec6"
   },
   "outputs": [
    {
     "data": {
      "image/png": "[encoded data removed]",
      "text/plain": [
       "<Figure size 432x288 with 1 Axes>"
      ]
     },
     "metadata": {
      "needs_background": "light"
     },
     "output_type": "display_data"
    }
   ],
   "source": [
    "import matplotlib.pyplot as plt\n",
    "import matplotlib.image as mpimg\n",
    "imgplot = plt.imshow(X_train[5])\n",
    "plt.show()"
   ]
  },
  {
   "cell_type": "code",
   "execution_count": 4,
   "metadata": {
    "colab": {
     "base_uri": "https://localhost:8080/"
    },
    "id": "hvwZUG8jzHl0",
    "outputId": "37b7ec95-4b2e-49c3-aa5d-de871c9ec9a9"
   },
   "outputs": [
    {
     "name": "stdout",
     "output_type": "stream",
     "text": [
      "(50000, 32, 32, 3) (50000, 1) (10000, 32, 32, 3) (10000, 1)\n"
     ]
    }
   ],
   "source": [
    "#Scale ảnh\n",
    "X_train, X_test = X_train.astype('float32')/255.0, X_test.astype('float32')/255.0\n",
    "\n",
    "#in dataset\n",
    "print(X_train.shape, y_train.shape, X_test.shape, y_test.shape)"
   ]
  },
  {
   "cell_type": "code",
   "execution_count": 5,
   "metadata": {
    "id": "X0wp0FDJzQaT"
   },
   "outputs": [],
   "source": [
    "from sklearn.model_selection import train_test_split\n",
    "X_train, X_valid, y_train, y_valid = train_test_split(X_train, y_train, \n",
    "                                                      test_size=0.2,\n",
    "                                                      random_state= 42)"
   ]
  },
  {
   "cell_type": "code",
   "execution_count": 6,
   "metadata": {
    "colab": {
     "base_uri": "https://localhost:8080/"
    },
    "id": "ndUWY_6iV-gi",
    "outputId": "53c55bf5-5407-40a4-85d1-4ddee7a9459b"
   },
   "outputs": [
    {
     "name": "stdout",
     "output_type": "stream",
     "text": [
      "(40000, 32, 32, 3)\n",
      "(10000, 32, 32, 3)\n",
      "(10000, 32, 32, 3)\n"
     ]
    }
   ],
   "source": [
    "print(X_train.shape)\n",
    "print(X_valid.shape)\n",
    "print(X_test.shape)"
   ]
  },
  {
   "cell_type": "markdown",
   "metadata": {
    "id": "-GaYwHUOdTPO"
   },
   "source": [
    "#### Hãy code thử mạng VGG16"
   ]
  },
  {
   "cell_type": "code",
   "execution_count": 7,
   "metadata": {
    "colab": {
     "base_uri": "https://localhost:8080/"
    },
    "id": "sTbjd68AzQRD",
    "outputId": "e5c5fb01-bb85-40e2-dd32-a84f4cc8eede"
   },
   "outputs": [
    {
     "name": "stdout",
     "output_type": "stream",
     "text": [
      "Model: \"sequential\"\n",
      "_________________________________________________________________\n",
      "Layer (type)                 Output Shape              Param #   \n",
      "=================================================================\n",
      "conv2d (Conv2D)              (None, 32, 32, 64)        1792      \n",
      "_________________________________________________________________\n",
      "conv2d_1 (Conv2D)            (None, 32, 32, 64)        36928     \n",
      "_________________________________________________________________\n",
      "max_pooling2d (MaxPooling2D) (None, 16, 16, 64)        0         \n",
      "_________________________________________________________________\n",
      "batch_normalization (BatchNo (None, 16, 16, 64)        256       \n",
      "_________________________________________________________________\n",
      "dropout (Dropout)            (None, 16, 16, 64)        0         \n",
      "_________________________________________________________________\n",
      "conv2d_2 (Conv2D)            (None, 16, 16, 128)       73856     \n",
      "_________________________________________________________________\n",
      "conv2d_3 (Conv2D)            (None, 16, 16, 128)       147584    \n",
      "_________________________________________________________________\n",
      "max_pooling2d_1 (MaxPooling2 (None, 8, 8, 128)         0         \n",
      "_________________________________________________________________\n",
      "batch_normalization_1 (Batch (None, 8, 8, 128)         512       \n",
      "_________________________________________________________________\n",
      "dropout_1 (Dropout)          (None, 8, 8, 128)         0         \n",
      "_________________________________________________________________\n",
      "conv2d_4 (Conv2D)            (None, 8, 8, 256)         295168    \n",
      "_________________________________________________________________\n",
      "conv2d_5 (Conv2D)            (None, 8, 8, 256)         590080    \n",
      "_________________________________________________________________\n",
      "conv2d_6 (Conv2D)            (None, 8, 8, 256)         590080    \n",
      "_________________________________________________________________\n",
      "max_pooling2d_2 (MaxPooling2 (None, 4, 4, 256)         0         \n",
      "_________________________________________________________________\n",
      "batch_normalization_2 (Batch (None, 4, 4, 256)         1024      \n",
      "_________________________________________________________________\n",
      "dropout_2 (Dropout)          (None, 4, 4, 256)         0         \n",
      "_________________________________________________________________\n",
      "conv2d_7 (Conv2D)            (None, 4, 4, 512)         1180160   \n",
      "_________________________________________________________________\n",
      "conv2d_8 (Conv2D)            (None, 4, 4, 512)         2359808   \n",
      "_________________________________________________________________\n",
      "conv2d_9 (Conv2D)            (None, 4, 4, 512)         2359808   \n",
      "_________________________________________________________________\n",
      "max_pooling2d_3 (MaxPooling2 (None, 2, 2, 512)         0         \n",
      "_________________________________________________________________\n",
      "batch_normalization_3 (Batch (None, 2, 2, 512)         2048      \n",
      "_________________________________________________________________\n",
      "dropout_3 (Dropout)          (None, 2, 2, 512)         0         \n",
      "_________________________________________________________________\n",
      "conv2d_10 (Conv2D)           (None, 2, 2, 512)         2359808   \n",
      "_________________________________________________________________\n",
      "conv2d_11 (Conv2D)           (None, 2, 2, 512)         2359808   \n",
      "_________________________________________________________________\n",
      "conv2d_12 (Conv2D)           (None, 2, 2, 512)         2359808   \n",
      "_________________________________________________________________\n",
      "max_pooling2d_4 (MaxPooling2 (None, 1, 1, 512)         0         \n",
      "_________________________________________________________________\n",
      "batch_normalization_4 (Batch (None, 1, 1, 512)         2048      \n",
      "_________________________________________________________________\n",
      "dropout_4 (Dropout)          (None, 1, 1, 512)         0         \n",
      "_________________________________________________________________\n",
      "flatten (Flatten)            (None, 512)               0         \n",
      "_________________________________________________________________\n",
      "dense (Dense)                (None, 200)               102600    \n",
      "_________________________________________________________________\n",
      "batch_normalization_5 (Batch (None, 200)               800       \n",
      "_________________________________________________________________\n",
      "dropout_5 (Dropout)          (None, 200)               0         \n",
      "_________________________________________________________________\n",
      "dense_1 (Dense)              (None, 200)               40200     \n",
      "_________________________________________________________________\n",
      "batch_normalization_6 (Batch (None, 200)               800       \n",
      "_________________________________________________________________\n",
      "dropout_6 (Dropout)          (None, 200)               0         \n",
      "_________________________________________________________________\n",
      "dense_2 (Dense)              (None, 10)                2010      \n",
      "=================================================================\n",
      "Total params: 14,866,986\n",
      "Trainable params: 14,863,242\n",
      "Non-trainable params: 3,744\n",
      "_________________________________________________________________\n"
     ]
    }
   ],
   "source": [
    "\n",
    "def set_seed(seed_value):\n",
    "  # Hàm này dùng để chỉnh seed về con số cố định\n",
    "  os.environ['PYTHONHASHSEED']=str(seed_value)\n",
    "  random.seed(seed_value)\n",
    "  np.random.seed(seed_value)\n",
    "  tf.random.set_seed(seed_value)\n",
    "  session_conf = tf.compat.v1.ConfigProto(intra_op_parallelism_threads=1, inter_op_parallelism_threads=1)\n",
    "  sess = tf.compat.v1.Session(graph=tf.compat.v1.get_default_graph(), config=session_conf)\n",
    "  tf.compat.v1.keras.backend.set_session(sess)\n",
    "\n",
    "def model_vgg16():\n",
    "  seed_value = 0\n",
    "  # chọn giá trị seed để khởi tạo các tham số nhằm reproduce lại kết quả\n",
    "  set_seed(seed_value)\n",
    "  model = Sequential()\n",
    "  #block 1\n",
    "  model.add(Conv2D(filters=64,\n",
    "                  input_shape=(32,32,3),\n",
    "                  kernel_size=[3,3],\n",
    "                  strides=[1,1],\n",
    "                  padding=\"same\",\n",
    "                  activation=tf.nn.relu,\n",
    "                  kernel_initializer=keras.initializers.glorot_uniform(seed=seed_value),\n",
    "                  bias_initializer = keras.initializers.glorot_uniform(seed = seed_value)))\n",
    "  model.add(Conv2D(filters=64,\n",
    "                  kernel_size=[3,3],\n",
    "                  strides=[1,1],\n",
    "                  padding=\"same\",\n",
    "                  activation=tf.nn.relu,\n",
    "                  kernel_initializer=keras.initializers.glorot_uniform(seed=seed_value),\n",
    "                  bias_initializer = keras.initializers.glorot_uniform(seed = seed_value)))\n",
    "  model.add(MaxPooling2D(\n",
    "                  pool_size=[2,2],\n",
    "                  strides=[2,2]))\n",
    "  model.add(BatchNormalization())\n",
    "  model.add(Dropout(\n",
    "                    rate = 0.5))\n",
    "  #block 2\n",
    "  model.add(Conv2D(filters=128,\n",
    "                  kernel_size=[3,3],\n",
    "                  strides=[1,1],\n",
    "                  padding=\"same\",\n",
    "                  activation=tf.nn.relu,\n",
    "                  kernel_initializer=keras.initializers.glorot_uniform(seed=seed_value),\n",
    "                  bias_initializer = keras.initializers.glorot_uniform(seed = seed_value)))\n",
    "  model.add(Conv2D(filters=128,\n",
    "                  kernel_size=[3,3],\n",
    "                  strides=[1,1],\n",
    "                  padding=\"same\",\n",
    "                  activation=tf.nn.relu,\n",
    "                  kernel_initializer=keras.initializers.glorot_uniform(seed=seed_value),\n",
    "                  bias_initializer = keras.initializers.glorot_uniform(seed = seed_value)))\n",
    "  model.add(MaxPooling2D(\n",
    "                  pool_size=[2,2],\n",
    "                  strides=[2,2]))\n",
    "  model.add(BatchNormalization())\n",
    "  model.add(Dropout(\n",
    "                    rate = 0.5))\n",
    "  #block 3\n",
    "  model.add(Conv2D(filters=256,\n",
    "                  kernel_size=[3,3],\n",
    "                  strides=[1,1],\n",
    "                  padding=\"same\",\n",
    "                  activation=tf.nn.relu,\n",
    "                  kernel_initializer=keras.initializers.glorot_uniform(seed=seed_value),\n",
    "                  bias_initializer = keras.initializers.glorot_uniform(seed = seed_value)))\n",
    "  model.add(Conv2D(filters=256,\n",
    "                  kernel_size=[3,3],\n",
    "                  strides=[1,1],\n",
    "                  padding=\"same\",\n",
    "                  activation=tf.nn.relu,\n",
    "                  kernel_initializer=keras.initializers.glorot_uniform(seed=seed_value)))\n",
    "  model.add(Conv2D(filters=256,\n",
    "                  kernel_size=[3,3],\n",
    "                  strides=[1,1],\n",
    "                  padding=\"same\",\n",
    "                  activation=tf.nn.relu,\n",
    "                  kernel_initializer=keras.initializers.glorot_uniform(seed=seed_value),\n",
    "                  bias_initializer = keras.initializers.glorot_uniform(seed = seed_value)))\n",
    "  model.add(MaxPooling2D(\n",
    "                  pool_size=[2,2],\n",
    "                  strides=[2,2]))\n",
    "  model.add(BatchNormalization())\n",
    "  model.add(Dropout(\n",
    "                    rate = 0.5))\n",
    "  # block 4\n",
    "  model.add(Conv2D(filters=512,\n",
    "                  kernel_size=[3,3],\n",
    "                  strides=[1,1],\n",
    "                  padding=\"same\",\n",
    "                  activation=tf.nn.relu,\n",
    "                  kernel_initializer=keras.initializers.glorot_uniform(seed=seed_value),\n",
    "                  bias_initializer = keras.initializers.glorot_uniform(seed = seed_value)))\n",
    "  model.add(Conv2D(filters=512,\n",
    "                  kernel_size=[3,3],\n",
    "                  strides=[1,1],\n",
    "                  padding=\"same\",\n",
    "                  activation=tf.nn.relu,\n",
    "                  kernel_initializer=keras.initializers.glorot_uniform(seed=seed_value),\n",
    "                  bias_initializer = keras.initializers.glorot_uniform(seed = seed_value)))\n",
    "  model.add(Conv2D(filters=512,\n",
    "                  kernel_size=[3,3],\n",
    "                  strides=[1,1],\n",
    "                  padding=\"same\",\n",
    "                  activation=tf.nn.relu,\n",
    "                  kernel_initializer=keras.initializers.glorot_uniform(seed=seed_value),\n",
    "                  bias_initializer = keras.initializers.glorot_uniform(seed = seed_value)))\n",
    "  model.add(MaxPooling2D(\n",
    "                  pool_size=[2,2],\n",
    "                  strides=[2,2]))\n",
    "  model.add(BatchNormalization())\n",
    "  model.add(Dropout(\n",
    "                    rate = 0.5))\n",
    "  # block 5\n",
    "  model.add(Conv2D(filters=512,\n",
    "                  kernel_size=[3,3],\n",
    "                  strides=[1,1],\n",
    "                  padding=\"same\",\n",
    "                  activation=tf.nn.relu,\n",
    "                  kernel_initializer=keras.initializers.glorot_uniform(seed=seed_value),\n",
    "                  bias_initializer = keras.initializers.glorot_uniform(seed = seed_value)))\n",
    "  model.add(Conv2D(filters=512,\n",
    "                  kernel_size=[3,3],\n",
    "                  strides=[1,1],\n",
    "                  padding=\"same\",\n",
    "                  activation=tf.nn.relu,\n",
    "                  kernel_initializer=keras.initializers.glorot_uniform(seed=seed_value),\n",
    "                  bias_initializer = keras.initializers.glorot_uniform(seed = seed_value)))\n",
    "  model.add(Conv2D(filters=512,\n",
    "                  kernel_size=[3,3],\n",
    "                  strides=[1,1],\n",
    "                  padding=\"same\",\n",
    "                  activation=tf.nn.relu,\n",
    "                  kernel_initializer=keras.initializers.glorot_uniform(seed=seed_value),\n",
    "                  bias_initializer = keras.initializers.glorot_uniform(seed = seed_value)))\n",
    "  model.add(MaxPooling2D(\n",
    "                  pool_size=[2,2],\n",
    "                  strides=[2,2]))\n",
    "  model.add(BatchNormalization())\n",
    "  model.add(Dropout(\n",
    "                    rate = 0.5))\n",
    "  # block cuối \n",
    "  model.add(Flatten())\n",
    "  model.add(Dense(\n",
    "                  units = 200,\n",
    "                  activation = tf.nn.relu, \n",
    "                  kernel_regularizer=regularizers.l1_l2(l1=1e-5, l2=1e-4),\n",
    "                  bias_regularizer=regularizers.l2(1e-4),\n",
    "                  activity_regularizer=regularizers.l2(1e-5),\n",
    "                  kernel_initializer=keras.initializers.glorot_uniform(seed=seed_value),\n",
    "                  bias_initializer = keras.initializers.glorot_uniform(seed = seed_value)))\n",
    "  model.add(BatchNormalization())\n",
    "  model.add(Dropout(\n",
    "                    rate = 0.5))\n",
    "  model.add(Dense(\n",
    "                  units = 200,\n",
    "                  activation = tf.nn.relu, \n",
    "                  kernel_regularizer=regularizers.l1_l2(l1=1e-5, l2=1e-4),\n",
    "                  bias_regularizer=regularizers.l2(1e-4),\n",
    "                  activity_regularizer=regularizers.l2(1e-5),\n",
    "                  kernel_initializer=keras.initializers.glorot_uniform(seed=seed_value),\n",
    "                  bias_initializer = keras.initializers.glorot_uniform(seed = seed_value)))\n",
    "  model.add(BatchNormalization())\n",
    "  model.add(Dropout(\n",
    "                    rate = 0.5))\n",
    "  model.add(Dense(\n",
    "                  units = 10,\n",
    "                  activation = tf.nn.softmax,\n",
    "                  kernel_initializer=keras.initializers.glorot_uniform(seed=seed_value),\n",
    "                  bias_initializer = keras.initializers.glorot_uniform(seed = seed_value)))\n",
    "  return model\n",
    "\n",
    "vgg16 = model_vgg16()  \n",
    "vgg16.summary()"
   ]
  },
  {
   "cell_type": "code",
   "execution_count": 8,
   "metadata": {
    "colab": {
     "base_uri": "https://localhost:8080/"
    },
    "id": "QdpyWZlDEn_q",
    "outputId": "4b0305b3-eeaf-45ab-ff8d-5ed18bd19081"
   },
   "outputs": [
    {
     "name": "stdout",
     "output_type": "stream",
     "text": [
      "Epoch 1/30\n",
      "313/313 [==============================] - 52s 146ms/step - loss: 2.6636 - accuracy: 0.1707 - val_loss: 18.7879 - val_accuracy: 0.0996\n",
      "\n",
      "Epoch 00001: val_accuracy improved from -inf to 0.09960, saving model to epoch: 01.hdf5\n",
      "Epoch 2/30\n",
      "313/313 [==============================] - 44s 140ms/step - loss: 2.0790 - accuracy: 0.2670 - val_loss: 2.7636 - val_accuracy: 0.2496\n",
      "\n",
      "Epoch 00002: val_accuracy improved from 0.09960 to 0.24960, saving model to epoch: 02.hdf5\n",
      "Epoch 3/30\n",
      "313/313 [==============================] - 44s 140ms/step - loss: 1.8324 - accuracy: 0.3416 - val_loss: 3.8907 - val_accuracy: 0.3261\n",
      "\n",
      "Epoch 00003: val_accuracy improved from 0.24960 to 0.32610, saving model to epoch: 03.hdf5\n",
      "Epoch 4/30\n",
      "313/313 [==============================] - 44s 140ms/step - loss: 1.6863 - accuracy: 0.4010 - val_loss: 2.1681 - val_accuracy: 0.3710\n",
      "\n",
      "Epoch 00004: val_accuracy improved from 0.32610 to 0.37100, saving model to epoch: 04.hdf5\n",
      "Epoch 5/30\n",
      "313/313 [==============================] - 44s 140ms/step - loss: 1.5615 - accuracy: 0.4588 - val_loss: 1.6150 - val_accuracy: 0.4744\n",
      "\n",
      "Epoch 00005: val_accuracy improved from 0.37100 to 0.47440, saving model to epoch: 05.hdf5\n",
      "Epoch 6/30\n",
      "313/313 [==============================] - 44s 140ms/step - loss: 1.4239 - accuracy: 0.5289 - val_loss: 1.7298 - val_accuracy: 0.4705\n",
      "\n",
      "Epoch 00006: val_accuracy did not improve from 0.47440\n",
      "Epoch 7/30\n",
      "313/313 [==============================] - 44s 140ms/step - loss: 1.2772 - accuracy: 0.5896 - val_loss: 1.4751 - val_accuracy: 0.5408\n",
      "\n",
      "Epoch 00007: val_accuracy improved from 0.47440 to 0.54080, saving model to epoch: 07.hdf5\n",
      "Epoch 8/30\n",
      "313/313 [==============================] - 44s 140ms/step - loss: 1.1702 - accuracy: 0.6274 - val_loss: 1.3014 - val_accuracy: 0.6188\n",
      "\n",
      "Epoch 00008: val_accuracy improved from 0.54080 to 0.61880, saving model to epoch: 08.hdf5\n",
      "Epoch 9/30\n",
      "313/313 [==============================] - 44s 140ms/step - loss: 1.0879 - accuracy: 0.6569 - val_loss: 1.2762 - val_accuracy: 0.6218\n",
      "\n",
      "Epoch 00009: val_accuracy improved from 0.61880 to 0.62180, saving model to epoch: 09.hdf5\n",
      "Epoch 10/30\n",
      "313/313 [==============================] - 44s 140ms/step - loss: 1.0138 - accuracy: 0.6819 - val_loss: 1.8547 - val_accuracy: 0.4925\n",
      "\n",
      "Epoch 00010: val_accuracy did not improve from 0.62180\n",
      "Epoch 11/30\n",
      "313/313 [==============================] - 44s 140ms/step - loss: 0.9529 - accuracy: 0.7023 - val_loss: 0.9994 - val_accuracy: 0.6882\n",
      "\n",
      "Epoch 00011: val_accuracy improved from 0.62180 to 0.68820, saving model to epoch: 11.hdf5\n",
      "Epoch 12/30\n",
      "313/313 [==============================] - 44s 140ms/step - loss: 0.8992 - accuracy: 0.7204 - val_loss: 0.9766 - val_accuracy: 0.6914\n",
      "\n",
      "Epoch 00012: val_accuracy improved from 0.68820 to 0.69140, saving model to epoch: 12.hdf5\n",
      "Epoch 13/30\n",
      "313/313 [==============================] - 44s 140ms/step - loss: 0.8550 - accuracy: 0.7373 - val_loss: 1.3390 - val_accuracy: 0.6071\n",
      "\n",
      "Epoch 00013: val_accuracy did not improve from 0.69140\n",
      "Epoch 14/30\n",
      "313/313 [==============================] - 44s 140ms/step - loss: 0.8109 - accuracy: 0.7531 - val_loss: 0.9017 - val_accuracy: 0.7263\n",
      "\n",
      "Epoch 00014: val_accuracy improved from 0.69140 to 0.72630, saving model to epoch: 14.hdf5\n",
      "Epoch 15/30\n",
      "313/313 [==============================] - 44s 140ms/step - loss: 0.7696 - accuracy: 0.7667 - val_loss: 0.7879 - val_accuracy: 0.7634\n",
      "\n",
      "Epoch 00015: val_accuracy improved from 0.72630 to 0.76340, saving model to epoch: 15.hdf5\n",
      "Epoch 16/30\n",
      "313/313 [==============================] - 44s 140ms/step - loss: 0.7362 - accuracy: 0.7762 - val_loss: 0.8276 - val_accuracy: 0.7490\n",
      "\n",
      "Epoch 00016: val_accuracy did not improve from 0.76340\n",
      "Epoch 17/30\n",
      "313/313 [==============================] - 44s 140ms/step - loss: 0.6989 - accuracy: 0.7912 - val_loss: 0.7414 - val_accuracy: 0.7705\n",
      "\n",
      "Epoch 00017: val_accuracy improved from 0.76340 to 0.77050, saving model to epoch: 17.hdf5\n",
      "Epoch 18/30\n",
      "313/313 [==============================] - 44s 140ms/step - loss: 0.6767 - accuracy: 0.7977 - val_loss: 0.6671 - val_accuracy: 0.7958\n",
      "\n",
      "Epoch 00018: val_accuracy improved from 0.77050 to 0.79580, saving model to epoch: 18.hdf5\n",
      "Epoch 19/30\n",
      "313/313 [==============================] - 44s 140ms/step - loss: 0.6387 - accuracy: 0.8085 - val_loss: 0.7417 - val_accuracy: 0.7803\n",
      "\n",
      "Epoch 00019: val_accuracy did not improve from 0.79580\n",
      "Epoch 20/30\n",
      "313/313 [==============================] - 44s 140ms/step - loss: 0.6137 - accuracy: 0.8177 - val_loss: 0.8939 - val_accuracy: 0.7483\n",
      "\n",
      "Epoch 00020: val_accuracy did not improve from 0.79580\n",
      "Epoch 21/30\n",
      "313/313 [==============================] - 44s 140ms/step - loss: 0.5948 - accuracy: 0.8243 - val_loss: 0.7759 - val_accuracy: 0.7671\n",
      "\n",
      "Epoch 00021: val_accuracy did not improve from 0.79580\n",
      "Epoch 22/30\n",
      "313/313 [==============================] - 44s 140ms/step - loss: 0.5660 - accuracy: 0.8327 - val_loss: 0.6829 - val_accuracy: 0.8019\n",
      "\n",
      "Epoch 00022: val_accuracy improved from 0.79580 to 0.80190, saving model to epoch: 22.hdf5\n",
      "Epoch 23/30\n",
      "313/313 [==============================] - 44s 140ms/step - loss: 0.5420 - accuracy: 0.8404 - val_loss: 0.7759 - val_accuracy: 0.7811\n",
      "\n",
      "Epoch 00023: val_accuracy did not improve from 0.80190\n",
      "Epoch 24/30\n",
      "313/313 [==============================] - 44s 140ms/step - loss: 0.5309 - accuracy: 0.8444 - val_loss: 0.6321 - val_accuracy: 0.8162\n",
      "\n",
      "Epoch 00024: val_accuracy improved from 0.80190 to 0.81620, saving model to epoch: 24.hdf5\n",
      "Epoch 25/30\n",
      "313/313 [==============================] - 44s 140ms/step - loss: 0.5098 - accuracy: 0.8514 - val_loss: 0.7471 - val_accuracy: 0.7886\n",
      "\n",
      "Epoch 00025: val_accuracy did not improve from 0.81620\n",
      "Epoch 26/30\n",
      "313/313 [==============================] - 44s 140ms/step - loss: 0.4955 - accuracy: 0.8550 - val_loss: 0.7088 - val_accuracy: 0.8007\n",
      "\n",
      "Epoch 00026: val_accuracy did not improve from 0.81620\n",
      "Epoch 27/30\n",
      "313/313 [==============================] - 44s 140ms/step - loss: 0.4775 - accuracy: 0.8616 - val_loss: 0.7338 - val_accuracy: 0.7931\n",
      "\n",
      "Epoch 00027: val_accuracy did not improve from 0.81620\n",
      "Epoch 28/30\n",
      "313/313 [==============================] - 44s 140ms/step - loss: 0.4508 - accuracy: 0.8689 - val_loss: 0.7092 - val_accuracy: 0.8036\n",
      "\n",
      "Epoch 00028: val_accuracy did not improve from 0.81620\n",
      "Epoch 29/30\n",
      "313/313 [==============================] - 44s 140ms/step - loss: 0.4525 - accuracy: 0.8679 - val_loss: 0.6198 - val_accuracy: 0.8218\n",
      "\n",
      "Epoch 00029: val_accuracy improved from 0.81620 to 0.82180, saving model to epoch: 29.hdf5\n",
      "Epoch 30/30\n",
      "313/313 [==============================] - 44s 140ms/step - loss: 0.4271 - accuracy: 0.8773 - val_loss: 0.6126 - val_accuracy: 0.8246\n",
      "\n",
      "Epoch 00030: val_accuracy improved from 0.82180 to 0.82460, saving model to epoch: 30.hdf5\n"
     ]
    }
   ],
   "source": [
    "\n",
    "batch_size = 128\n",
    "\n",
    "vgg16.compile(loss = tf.keras.losses.sparse_categorical_crossentropy, \n",
    "              optimizer = tf.keras.optimizers.RMSprop(learning_rate=0.0001*5),\n",
    "              metrics=['accuracy']\n",
    "              )\n",
    "\n",
    "mc = keras.callbacks.ModelCheckpoint(filepath=\"epoch: {epoch:02d}.hdf5\", \n",
    "                                     monitor='val_accuracy',\n",
    "                                     mode='max', \n",
    "                                     verbose=1,\n",
    "                                     save_best_only=True)\n",
    "\n",
    "## Train \n",
    "history = vgg16.fit(X_train, y_train,\n",
    "                    batch_size= batch_size,\n",
    "                    epochs= 30,\n",
    "                    validation_data=(X_valid, y_valid),\n",
    "                    callbacks=[mc])      \n"
   ]
  },
  {
   "cell_type": "code",
   "execution_count": 19,
   "metadata": {
    "colab": {
     "base_uri": "https://localhost:8080/",
     "height": 606
    },
    "id": "N8V5gWx3MH-_",
    "outputId": "25e73768-e6af-470c-8ccb-4d89650b0bd6"
   },
   "outputs": [
    {
     "data": {
      "image/png": "[encoded data removed]",
      "text/plain": [
       "<Figure size 720x720 with 2 Axes>"
      ]
     },
     "metadata": {
      "needs_background": "light"
     },
     "output_type": "display_data"
    }
   ],
   "source": [
    "f,ax=plt.subplots(2,1, figsize = (10,10)) \n",
    "\n",
    "ax[0].plot(history.history['loss'],color='b',label='Training Loss')\n",
    "ax[0].plot(history.history['val_loss'],color='r',label='Validation Loss')\n",
    "ax[0].set_title('Loss plot')\n",
    "ax[0].legend()\n",
    "#----------------------------------\n",
    "ax[1].plot(history.history['accuracy'],color='b',label='Training  Accuracy')\n",
    "ax[1].plot(history.history['val_accuracy'],color='r',label='Validation Accuracy')\n",
    "ax[1].set_title('Accuracy plot')\n",
    "ax[1].legend();"
   ]
  },
  {
   "cell_type": "markdown",
   "metadata": {
    "id": "QW23mvjqdFka"
   },
   "source": [
    "#### Nêu cách chọn ra epoch thứ bao nhiêu làm cho model tốt nhất "
   ]
  },
  {
   "cell_type": "markdown",
   "metadata": {
    "id": "6d3hs2xNaj0R"
   },
   "source": [
    "Nhìn vào đồ thị **loss plot**, ta thấy rằng loss giữa tập train và validation khá gần nhau nên ta chưa thể rút ra kết luận đối với hình này. \n",
    "Đối với **accuracy plot** thì ta thấy rằng từ **epoch 21** trở đi thì khoảng cách giữa train accuracy và validation accuracy có phần lớn hơn và đồng thời train accuracy > validation accuracy nên ta nhận ra đó là hiện tượng overfitting ở model này. Ta có thể cân nhắc dừng train ở ngay **epoch 21** đó nhưng ta thấy rằng khoảng cách giữa train accuracy và validation accuracy vẫn không tăng đáng kể và ta vẫn muốn cải thiện accuracy ở cả 2 tập với model này nên ta chọn **epoch 30** là tốt nhất."
   ]
  },
  {
   "cell_type": "code",
   "execution_count": 11,
   "metadata": {
    "colab": {
     "base_uri": "https://localhost:8080/"
    },
    "id": "iL5YBvjbEhM5",
    "outputId": "d8789d50-23c0-42c0-bd0d-68fe6ec95b6c"
   },
   "outputs": [
    {
     "name": "stdout",
     "output_type": "stream",
     "text": [
      "313/313 [==============================] - 7s 20ms/step - loss: 0.6187 - accuracy: 0.8245\n",
      "loss và accuracy trên tập test là 0.6187318563461304 0.8245000243186951\n"
     ]
    }
   ],
   "source": [
    "#ta chọn epoch thứ 30 làm best model\n",
    "model = tf.keras.models.load_model(\"/content/epoch: 30.hdf5\")\n",
    "result = model.evaluate(X_test,y_test)\n",
    "print(\"loss và accuracy trên tập test là {} {}\".format(result[0],result[1]))"
   ]
  },
  {
   "cell_type": "code",
   "execution_count": null,
   "metadata": {
    "id": "oM3cxEByEO30"
   },
   "outputs": [],
   "source": []
  }
 ],
 "metadata": {
  "accelerator": "GPU",
  "colab": {
   "collapsed_sections": [],
   "name": "Copy_of_Copy_of_Untitled2 (1).ipynb",
   "provenance": []
  },
  "kernelspec": {
   "display_name": "Python 3",
   "language": "python",
   "name": "python3"
  },
  "language_info": {
   "codemirror_mode": {
    "name": "ipython",
    "version": 3
   },
   "file_extension": ".py",
   "mimetype": "text/x-python",
   "name": "python",
   "nbconvert_exporter": "python",
   "pygments_lexer": "ipython3",
   "version": "3.8.3"
  }
 },
 "nbformat": 4,
 "nbformat_minor": 1
}
