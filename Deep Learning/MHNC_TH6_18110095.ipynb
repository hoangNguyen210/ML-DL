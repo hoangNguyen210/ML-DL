{
  "nbformat": 4,
  "nbformat_minor": 0,
  "metadata": {
    "colab": {
      "name": "MHNC_TH6_18110095.ipynb",
      "provenance": [],
      "collapsed_sections": []
    },
    "kernelspec": {
      "display_name": "Python 3",
      "name": "python3"
    },
    "language_info": {
      "name": "python"
    },
    "accelerator": "GPU"
  },
  "cells": [
    {
      "cell_type": "markdown",
      "metadata": {
        "id": "UDWcUzXoHxZ9"
      },
      "source": [
        "### THỰC HÀNH MHNC LAB 6\n",
        "\n",
        "### NGUYỄN MINH HOÀNG 18110095"
      ]
    },
    {
      "cell_type": "code",
      "metadata": {
        "id": "L00PNcvtHBP8"
      },
      "source": [
        "import pandas as pd\n",
        "import numpy as np\n",
        "import nltk\n",
        "import timeit\n",
        "import io\n",
        "\n",
        "import tensorflow as tf\n",
        "from tensorflow.keras.layers import ( Conv1D, GlobalAveragePooling1D,\n",
        "                              Input, Embedding, LSTM, Bidirectional, \n",
        "                               Dense, Dropout, BatchNormalization,GRU)\n",
        "from tensorflow.keras.models import Model"
      ],
      "execution_count": 33,
      "outputs": []
    },
    {
      "cell_type": "code",
      "metadata": {
        "colab": {
          "base_uri": "https://localhost:8080/",
          "height": 206
        },
        "id": "B0VQUMm8HwbE",
        "outputId": "b9d289ab-7a32-4c3b-b492-5873d8eb6d41"
      },
      "source": [
        "#đọc data\n",
        "df = pd.read_csv(\"https://raw.githubusercontent.com/huynhthanh98/AML/main/lab-04/spam_detection.csv\")\n",
        "df.head()"
      ],
      "execution_count": null,
      "outputs": [
        {
          "output_type": "execute_result",
          "data": {
            "text/html": [
              "<div>\n",
              "<style scoped>\n",
              "    .dataframe tbody tr th:only-of-type {\n",
              "        vertical-align: middle;\n",
              "    }\n",
              "\n",
              "    .dataframe tbody tr th {\n",
              "        vertical-align: top;\n",
              "    }\n",
              "\n",
              "    .dataframe thead th {\n",
              "        text-align: right;\n",
              "    }\n",
              "</style>\n",
              "<table border=\"1\" class=\"dataframe\">\n",
              "  <thead>\n",
              "    <tr style=\"text-align: right;\">\n",
              "      <th></th>\n",
              "      <th>Text</th>\n",
              "      <th>Label</th>\n",
              "      <th>y</th>\n",
              "    </tr>\n",
              "  </thead>\n",
              "  <tbody>\n",
              "    <tr>\n",
              "      <th>0</th>\n",
              "      <td>Go until jurong point, crazy.. Available only ...</td>\n",
              "      <td>ham</td>\n",
              "      <td>0</td>\n",
              "    </tr>\n",
              "    <tr>\n",
              "      <th>1</th>\n",
              "      <td>Ok lar... Joking wif u oni...</td>\n",
              "      <td>ham</td>\n",
              "      <td>0</td>\n",
              "    </tr>\n",
              "    <tr>\n",
              "      <th>2</th>\n",
              "      <td>Free entry in 2 a wkly comp to win FA Cup fina...</td>\n",
              "      <td>spam</td>\n",
              "      <td>1</td>\n",
              "    </tr>\n",
              "    <tr>\n",
              "      <th>3</th>\n",
              "      <td>U dun say so early hor... U c already then say...</td>\n",
              "      <td>ham</td>\n",
              "      <td>0</td>\n",
              "    </tr>\n",
              "    <tr>\n",
              "      <th>4</th>\n",
              "      <td>Nah I don't think he goes to usf, he lives aro...</td>\n",
              "      <td>ham</td>\n",
              "      <td>0</td>\n",
              "    </tr>\n",
              "  </tbody>\n",
              "</table>\n",
              "</div>"
            ],
            "text/plain": [
              "                                                Text Label  y\n",
              "0  Go until jurong point, crazy.. Available only ...   ham  0\n",
              "1                      Ok lar... Joking wif u oni...   ham  0\n",
              "2  Free entry in 2 a wkly comp to win FA Cup fina...  spam  1\n",
              "3  U dun say so early hor... U c already then say...   ham  0\n",
              "4  Nah I don't think he goes to usf, he lives aro...   ham  0"
            ]
          },
          "metadata": {},
          "execution_count": 2
        }
      ]
    },
    {
      "cell_type": "code",
      "metadata": {
        "colab": {
          "base_uri": "https://localhost:8080/"
        },
        "id": "0hYgmT86UEIr",
        "outputId": "63f9feed-7303-4625-df52-987b6016b245"
      },
      "source": [
        "df.shape"
      ],
      "execution_count": null,
      "outputs": [
        {
          "output_type": "execute_result",
          "data": {
            "text/plain": [
              "(5574, 3)"
            ]
          },
          "metadata": {},
          "execution_count": 3
        }
      ]
    },
    {
      "cell_type": "code",
      "metadata": {
        "colab": {
          "base_uri": "https://localhost:8080/"
        },
        "id": "3iijL9i0HHj7",
        "outputId": "a73883cf-fcc7-490f-edba-2dce92e50c4f"
      },
      "source": [
        "nltk.download('punkt')\n",
        "texts = df[\"Text\"].to_list()\n",
        "texts = [text.lower() for text in texts ]           # chuyển các đoạn text thành chữ thường (word embedding chỉ cho chữ thường)\n",
        "tokenized_texts = [nltk.tokenize.word_tokenize(text) for text in texts]    # tách câu thành một list các từ\n",
        "print(tokenized_texts[0])"
      ],
      "execution_count": null,
      "outputs": [
        {
          "output_type": "stream",
          "name": "stdout",
          "text": [
            "[nltk_data] Downloading package punkt to /root/nltk_data...\n",
            "[nltk_data]   Unzipping tokenizers/punkt.zip.\n",
            "['go', 'until', 'jurong', 'point', ',', 'crazy..', 'available', 'only', 'in', 'bugis', 'n', 'great', 'world', 'la', 'e', 'buffet', '...', 'cine', 'there', 'got', 'amore', 'wat', '...']\n"
          ]
        }
      ]
    },
    {
      "cell_type": "markdown",
      "metadata": {
        "id": "-eEQTXbkXqln"
      },
      "source": [
        "### 1. Hãy dùng bộ Glove 300d để làm embedding cho model"
      ]
    },
    {
      "cell_type": "code",
      "metadata": {
        "colab": {
          "base_uri": "https://localhost:8080/"
        },
        "id": "NAkBJ2iXHJGP",
        "outputId": "eb03280b-f52e-48dd-f22d-6f0a39c2cf12"
      },
      "source": [
        "#Tải bộ weights Glove\n",
        "!wget http://nlp.stanford.edu/data/glove.6B.zip"
      ],
      "execution_count": null,
      "outputs": [
        {
          "output_type": "stream",
          "name": "stdout",
          "text": [
            "--2021-11-20 14:44:24--  http://nlp.stanford.edu/data/glove.6B.zip\n",
            "Resolving nlp.stanford.edu (nlp.stanford.edu)... 171.64.67.140\n",
            "Connecting to nlp.stanford.edu (nlp.stanford.edu)|171.64.67.140|:80... connected.\n",
            "HTTP request sent, awaiting response... 302 Found\n",
            "Location: https://nlp.stanford.edu/data/glove.6B.zip [following]\n",
            "--2021-11-20 14:44:25--  https://nlp.stanford.edu/data/glove.6B.zip\n",
            "Connecting to nlp.stanford.edu (nlp.stanford.edu)|171.64.67.140|:443... connected.\n",
            "HTTP request sent, awaiting response... 301 Moved Permanently\n",
            "Location: http://downloads.cs.stanford.edu/nlp/data/glove.6B.zip [following]\n",
            "--2021-11-20 14:44:25--  http://downloads.cs.stanford.edu/nlp/data/glove.6B.zip\n",
            "Resolving downloads.cs.stanford.edu (downloads.cs.stanford.edu)... 171.64.64.22\n",
            "Connecting to downloads.cs.stanford.edu (downloads.cs.stanford.edu)|171.64.64.22|:80... connected.\n",
            "HTTP request sent, awaiting response... 200 OK\n",
            "Length: 862182613 (822M) [application/zip]\n",
            "Saving to: ‘glove.6B.zip’\n",
            "\n",
            "glove.6B.zip        100%[===================>] 822.24M  5.15MB/s    in 2m 41s  \n",
            "\n",
            "2021-11-20 14:47:07 (5.10 MB/s) - ‘glove.6B.zip’ saved [862182613/862182613]\n",
            "\n"
          ]
        }
      ]
    },
    {
      "cell_type": "code",
      "metadata": {
        "colab": {
          "base_uri": "https://localhost:8080/"
        },
        "id": "xi9mzCQxHLDY",
        "outputId": "86b55743-9326-402b-9f7a-454d3028f091"
      },
      "source": [
        "#Giải Nén\n",
        "! unzip glove.6B.zip"
      ],
      "execution_count": null,
      "outputs": [
        {
          "output_type": "stream",
          "name": "stdout",
          "text": [
            "Archive:  glove.6B.zip\n",
            "  inflating: glove.6B.50d.txt        \n",
            "  inflating: glove.6B.100d.txt       \n",
            "  inflating: glove.6B.200d.txt       \n",
            "  inflating: glove.6B.300d.txt       \n"
          ]
        }
      ]
    },
    {
      "cell_type": "code",
      "metadata": {
        "id": "kqj44ilpHNBH"
      },
      "source": [
        "## không cần hiểu đống này lắm đâu\n",
        "def load_word_embeddings(fname):\n",
        "    import io\n",
        "    fin = io.open(fname, 'r', encoding='utf-8', newline='\\n', errors='ignore')\n",
        "    vocab, matrix = [], []\n",
        "    i=0\n",
        "    for line in fin:\n",
        "        tokens = line.rstrip().split(' ')\n",
        "        vocab.append(tokens[0])\n",
        "        matrix.append(list(map(float, tokens[1:])))\n",
        "    return vocab, np.asarray(matrix) "
      ],
      "execution_count": null,
      "outputs": []
    },
    {
      "cell_type": "code",
      "metadata": {
        "id": "KtEk6_QBHQTz",
        "colab": {
          "base_uri": "https://localhost:8080/"
        },
        "outputId": "c4a380a1-0bd8-4ee9-a0ab-662d7b92ae5c"
      },
      "source": [
        "#vocab là bộ từ điển các từ có trong Glove\n",
        "#matrix chứa các vector biểu diễn các từ \n",
        "##Ta chọn bộ weighs có số chiều là 300\n",
        "vocab, matrix = load_word_embeddings(\"glove.6B.300d.txt\")\n",
        "print(len(vocab))\n",
        "print(matrix.shape)"
      ],
      "execution_count": null,
      "outputs": [
        {
          "output_type": "stream",
          "name": "stdout",
          "text": [
            "400000\n",
            "(400000, 300)\n"
          ]
        }
      ]
    },
    {
      "cell_type": "code",
      "metadata": {
        "id": "s7PNZ3BYHfON",
        "colab": {
          "base_uri": "https://localhost:8080/"
        },
        "outputId": "3e85d719-029d-43c4-8553-d305f2c686f6"
      },
      "source": [
        "\n",
        "\n",
        "# Tạo một dictionary, có nhiệm vụ là một ánh xạ từ ảnh sang mã số, mã số được bắt đầu từ 2 vì số 0 và 1 được dành cho trường hợp đặc biệt\n",
        "word_to_index = {word: index+2 for index, word in enumerate(vocab)}\n",
        "\n",
        "# Do do mã số được bắt đầu từ 2, nên cần thêm 2 vector vào đàu ma trận\n",
        "embedding_matrix = np.pad(matrix, ((2,0),(0,0)), mode='constant', constant_values =0.0)\n",
        "print(embedding_matrix)"
      ],
      "execution_count": null,
      "outputs": [
        {
          "output_type": "stream",
          "name": "stdout",
          "text": [
            "[[ 0.         0.         0.        ...  0.         0.         0.       ]\n",
            " [ 0.         0.         0.        ...  0.         0.         0.       ]\n",
            " [ 0.04656    0.21318   -0.0074364 ...  0.0090611 -0.20989    0.053913 ]\n",
            " ...\n",
            " [ 0.075713  -0.040502   0.18345   ...  0.21838    0.30967    0.43761  ]\n",
            " [ 0.81451   -0.36221    0.31186   ...  0.075486   0.28408   -0.17559  ]\n",
            " [ 0.429191  -0.296897   0.15011   ...  0.28975    0.32618   -0.0590532]]\n"
          ]
        }
      ]
    },
    {
      "cell_type": "code",
      "metadata": {
        "id": "HSPf0l22Hh6-"
      },
      "source": [
        "## Bây giờ ta sẽ chuyển data spam dection thành các mã số\n",
        "\n",
        "\n",
        "## Gán các mã\n",
        "__PADDED_INDEX__ = 0    # mã dùng cho các vị trí chỉ có tính nối dài cho cùng kích thước\n",
        "__UNKNOWN_WORD__ = 1    # mã cho những từ không có trong embedding\n",
        "\n",
        "\n",
        "X = []\n",
        "for text in tokenized_texts:\n",
        "    cur_text_indices = []\n",
        "    for word in text:\n",
        "        if word in word_to_index:\n",
        "            cur_text_indices.append(word_to_index[word])    ## map từ word sang index\n",
        "        else:\n",
        "            cur_text_indices.append(__UNKNOWN_WORD__)       ## gán unknown cho từ không có trong bộ glove\n",
        "    X.append(cur_text_indices)\n",
        "\n",
        "## pad data cho có cùng chiều dài\n",
        "X = tf.keras.preprocessing.sequence.pad_sequences(sequences=X,       # sequences: list các câu có độ dài không bằng nhau\n",
        "                                                  padding='post')    # vị trí pad là 'pre' (trước) hoặc 'post' (sau)\n",
        "\n",
        "y = df['y'].values   ## Label của bài toán, 0 là không phải spam, 1 là spam"
      ],
      "execution_count": null,
      "outputs": []
    },
    {
      "cell_type": "code",
      "metadata": {
        "id": "5ZIHWJFMn4Xt"
      },
      "source": [
        "## Chia data\n",
        "from sklearn.model_selection import train_test_split\n",
        "X_train, X_valid, y_train, y_valid = train_test_split(X, y, test_size= 0.2, random_state =0)"
      ],
      "execution_count": null,
      "outputs": []
    },
    {
      "cell_type": "markdown",
      "metadata": {
        "id": "4RLbq7Chl7pD"
      },
      "source": [
        "### 2. Hãy tìm hiểu cách dùng của convolution 1D trong keras để train mô hình dưới đây\n",
        "![Screenshot (172).png](data:image/png;base64,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)"
      ]
    },
    {
      "cell_type": "markdown",
      "metadata": {
        "id": "x-voLgU_GsoT"
      },
      "source": [
        "**Conv1D** cũng tượng tự như **Conv2D** nhưng thay vì **Conv2D** sẽ được dùng để cho hình ảnh thì **Conv1D** được dùng để xử lý dữ liệu dạng chuỗi (dữ liệu 1 chiều)."
      ]
    },
    {
      "cell_type": "markdown",
      "metadata": {
        "id": "CNoRnW-XnB_K"
      },
      "source": [
        "**Trainable = False**"
      ]
    },
    {
      "cell_type": "code",
      "metadata": {
        "id": "hv3nWFdOKwQR",
        "colab": {
          "base_uri": "https://localhost:8080/"
        },
        "outputId": "ce785f15-266c-4e07-db9c-83a632ac8adc"
      },
      "source": [
        "inputs = Input(shape=(None,))                   ## None biểu thị kích thước không xác định của câu\n",
        "\n",
        "x = Embedding(input_dim=embedding_matrix.shape[0],   ## Khai báo kích thước của vocab\n",
        "                  output_dim=embedding_matrix.shape[1],   ## Khai báo kích thước của embedding\n",
        "                  embeddings_initializer = tf.keras.initializers.Constant(value=embedding_matrix),  ## Khởi tạo cho embedding bằng ma trận có sẵn\n",
        "                  trainable=False,                       ## Không cần thiết train embedding\n",
        "                  mask_zero=True)(inputs)                 ## zero_mask: những vị trí có giá trị 0 không được tính toán, vì đó là giá trị thêm vào cho đủ độ dài mà thôi\n",
        "                                                        ##  (__PADDED_INDEX__ gán bằng 0)\n",
        "\n",
        "x = Conv1D(filters = 100, \n",
        "            kernel_size = 2, \n",
        "            activation= tf.nn.relu,\n",
        "            padding = 'valid',\n",
        "            )(x)\n",
        "x = GlobalAveragePooling1D()(x)\n",
        "outputs = Dense(units = 2 , activation = tf.nn.softmax)(x)\n",
        "model1 = Model(inputs=inputs,\n",
        "              outputs=outputs)\n",
        "model1.summary()"
      ],
      "execution_count": 61,
      "outputs": [
        {
          "output_type": "stream",
          "name": "stdout",
          "text": [
            "Model: \"model_12\"\n",
            "_________________________________________________________________\n",
            " Layer (type)                Output Shape              Param #   \n",
            "=================================================================\n",
            " input_13 (InputLayer)       [(None, None)]            0         \n",
            "                                                                 \n",
            " embedding_12 (Embedding)    (None, None, 300)         120000600 \n",
            "                                                                 \n",
            " conv1d_12 (Conv1D)          (None, None, 100)         60100     \n",
            "                                                                 \n",
            " global_average_pooling1d_12  (None, 100)              0         \n",
            "  (GlobalAveragePooling1D)                                       \n",
            "                                                                 \n",
            " dense_12 (Dense)            (None, 2)                 202       \n",
            "                                                                 \n",
            "=================================================================\n",
            "Total params: 120,060,902\n",
            "Trainable params: 60,302\n",
            "Non-trainable params: 120,000,600\n",
            "_________________________________________________________________\n"
          ]
        }
      ]
    },
    {
      "cell_type": "code",
      "metadata": {
        "id": "PrW1Uh8uClL-"
      },
      "source": [
        "performances = []\n",
        "times = []"
      ],
      "execution_count": 62,
      "outputs": []
    },
    {
      "cell_type": "code",
      "metadata": {
        "id": "VbsE5BMQLdbn",
        "colab": {
          "base_uri": "https://localhost:8080/"
        },
        "outputId": "d318ebae-a2c5-4f29-e055-5de90cd90732"
      },
      "source": [
        "\n",
        "start = timeit.default_timer() \n",
        "\n",
        "model1.compile(\n",
        "                optimizer = tf.keras.optimizers.Adam(learning_rate= 7e-3, name='RMSprop'),\n",
        "                loss='sparse_categorical_crossentropy',\n",
        "                metrics=['accuracy'])\n",
        "\n",
        "history = model1.fit(X_train, y_train,\n",
        "                    batch_size= 128,\n",
        "                    epochs= 10,\n",
        "                    )  \n",
        "\n",
        "stop = timeit.default_timer()\n",
        "print('Time: ', stop - start) "
      ],
      "execution_count": 63,
      "outputs": [
        {
          "output_type": "stream",
          "name": "stdout",
          "text": [
            "Epoch 1/10\n",
            "35/35 [==============================] - 1s 12ms/step - loss: 0.3808 - accuracy: 0.8569\n",
            "Epoch 2/10\n",
            "35/35 [==============================] - 0s 12ms/step - loss: 0.1212 - accuracy: 0.9617\n",
            "Epoch 3/10\n",
            "35/35 [==============================] - 0s 12ms/step - loss: 0.0883 - accuracy: 0.9711\n",
            "Epoch 4/10\n",
            "35/35 [==============================] - 0s 12ms/step - loss: 0.0677 - accuracy: 0.9785\n",
            "Epoch 5/10\n",
            "35/35 [==============================] - 0s 12ms/step - loss: 0.0591 - accuracy: 0.9812\n",
            "Epoch 6/10\n",
            "35/35 [==============================] - 0s 12ms/step - loss: 0.0484 - accuracy: 0.9852\n",
            "Epoch 7/10\n",
            "35/35 [==============================] - 0s 12ms/step - loss: 0.0417 - accuracy: 0.9886\n",
            "Epoch 8/10\n",
            "35/35 [==============================] - 0s 12ms/step - loss: 0.0377 - accuracy: 0.9890\n",
            "Epoch 9/10\n",
            "35/35 [==============================] - 0s 12ms/step - loss: 0.0322 - accuracy: 0.9919\n",
            "Epoch 10/10\n",
            "35/35 [==============================] - 0s 12ms/step - loss: 0.0273 - accuracy: 0.9926\n",
            "Time:  5.653474366999944\n"
          ]
        }
      ]
    },
    {
      "cell_type": "code",
      "metadata": {
        "id": "-7g6YWYzPTK-",
        "colab": {
          "base_uri": "https://localhost:8080/"
        },
        "outputId": "1849f941-a9ab-4407-e54b-2d32b3c8b067"
      },
      "source": [
        "result = model1.evaluate(X_valid,y_valid)\n",
        "print(\"loss và accuracy trên tập val là {} {}\".format(result[0],result[1]))"
      ],
      "execution_count": 64,
      "outputs": [
        {
          "output_type": "stream",
          "name": "stdout",
          "text": [
            "35/35 [==============================] - 0s 4ms/step - loss: 0.0610 - accuracy: 0.9821\n",
            "loss và accuracy trên tập val là 0.0610235370695591 0.9820627570152283\n"
          ]
        }
      ]
    },
    {
      "cell_type": "code",
      "metadata": {
        "id": "ESD-GmQoDPtJ"
      },
      "source": [
        "times.append(stop-start)\n",
        "performances.append(result[1])"
      ],
      "execution_count": 65,
      "outputs": []
    },
    {
      "cell_type": "markdown",
      "metadata": {
        "id": "mdLcKTOymxFS"
      },
      "source": [
        "### 3.Xét 2 trường hợp trainable là True và False trong lớp embedding và đưa ra so sánh\n",
        "\n",
        "    Lưu ý: Dùng data của bài thực hành số 5 để train"
      ]
    },
    {
      "cell_type": "markdown",
      "metadata": {
        "id": "u1I5Km7xm7Ex"
      },
      "source": [
        "**Trainable = True**"
      ]
    },
    {
      "cell_type": "code",
      "metadata": {
        "id": "KYtOYp4PogGc",
        "colab": {
          "base_uri": "https://localhost:8080/"
        },
        "outputId": "900110db-d5fc-4b32-fa75-2e27832d8c61"
      },
      "source": [
        "\n",
        "\n",
        "inputs = Input(shape=(None,))                   ## None biểu thị kích thước không xác định của câu\n",
        "\n",
        "x = Embedding(input_dim=embedding_matrix.shape[0],   ## Khai báo kích thước của vocab\n",
        "                  output_dim=embedding_matrix.shape[1],   ## Khai báo kích thước của embedding\n",
        "                  embeddings_initializer = tf.keras.initializers.Constant(value=embedding_matrix),  ## Khởi tạo cho embedding bằng ma trận có sẵn\n",
        "                  trainable=True,                       ## Không cần thiết train embedding\n",
        "                  mask_zero=True)(inputs)                 ## zero_mask: những vị trí có giá trị 0 không được tính toán, vì đó là giá trị thêm vào cho đủ độ dài mà thôi\n",
        "                                                        ##  (__PADDED_INDEX__ gán bằng 0)\n",
        "\n",
        "x = Conv1D(filters = 100, \n",
        "            kernel_size = 2, \n",
        "            activation= tf.nn.relu,\n",
        "            padding = 'valid',\n",
        "            )(x)\n",
        "x = GlobalAveragePooling1D()(x)\n",
        "outputs = Dense(units = 2 , activation = tf.nn.softmax)(x)\n",
        "model2 = Model(inputs=inputs,\n",
        "              outputs=outputs)\n",
        "model2.summary()\n"
      ],
      "execution_count": 66,
      "outputs": [
        {
          "output_type": "stream",
          "name": "stdout",
          "text": [
            "Model: \"model_13\"\n",
            "_________________________________________________________________\n",
            " Layer (type)                Output Shape              Param #   \n",
            "=================================================================\n",
            " input_14 (InputLayer)       [(None, None)]            0         \n",
            "                                                                 \n",
            " embedding_13 (Embedding)    (None, None, 300)         120000600 \n",
            "                                                                 \n",
            " conv1d_13 (Conv1D)          (None, None, 100)         60100     \n",
            "                                                                 \n",
            " global_average_pooling1d_13  (None, 100)              0         \n",
            "  (GlobalAveragePooling1D)                                       \n",
            "                                                                 \n",
            " dense_13 (Dense)            (None, 2)                 202       \n",
            "                                                                 \n",
            "=================================================================\n",
            "Total params: 120,060,902\n",
            "Trainable params: 120,060,902\n",
            "Non-trainable params: 0\n",
            "_________________________________________________________________\n"
          ]
        }
      ]
    },
    {
      "cell_type": "code",
      "metadata": {
        "id": "f1lyT8PZpAUu",
        "colab": {
          "base_uri": "https://localhost:8080/"
        },
        "outputId": "24f10b4c-0b40-4c3c-9ca6-8ec05eb189c6"
      },
      "source": [
        "start = timeit.default_timer() \n",
        "model2.compile(\n",
        "                optimizer = tf.keras.optimizers.RMSprop(learning_rate= 3e-3, name='RMSprop'),\n",
        "                loss='sparse_categorical_crossentropy',\n",
        "                metrics=['accuracy'])\n",
        "history = model2.fit(X_train, y_train,\n",
        "                    batch_size= 128,\n",
        "                    epochs= 10) \n",
        "\n",
        "stop = timeit.default_timer()\n",
        "print('Time: ', stop - start)"
      ],
      "execution_count": 67,
      "outputs": [
        {
          "output_type": "stream",
          "name": "stdout",
          "text": [
            "Epoch 1/10\n",
            "35/35 [==============================] - 2s 45ms/step - loss: 0.2432 - accuracy: 0.8966\n",
            "Epoch 2/10\n",
            "35/35 [==============================] - 1s 42ms/step - loss: 0.0663 - accuracy: 0.9785\n",
            "Epoch 3/10\n",
            "35/35 [==============================] - 1s 42ms/step - loss: 0.0448 - accuracy: 0.9865\n",
            "Epoch 4/10\n",
            "35/35 [==============================] - 1s 42ms/step - loss: 0.0327 - accuracy: 0.9901\n",
            "Epoch 5/10\n",
            "35/35 [==============================] - 1s 42ms/step - loss: 0.0256 - accuracy: 0.9928\n",
            "Epoch 6/10\n",
            "35/35 [==============================] - 1s 42ms/step - loss: 0.0190 - accuracy: 0.9944\n",
            "Epoch 7/10\n",
            "35/35 [==============================] - 1s 43ms/step - loss: 0.0140 - accuracy: 0.9962\n",
            "Epoch 8/10\n",
            "35/35 [==============================] - 1s 42ms/step - loss: 0.0095 - accuracy: 0.9975\n",
            "Epoch 9/10\n",
            "35/35 [==============================] - 1s 42ms/step - loss: 0.0086 - accuracy: 0.9978\n",
            "Epoch 10/10\n",
            "35/35 [==============================] - 1s 42ms/step - loss: 0.0073 - accuracy: 0.9982\n",
            "Time:  21.132388835999336\n"
          ]
        }
      ]
    },
    {
      "cell_type": "code",
      "metadata": {
        "id": "cVTMP5134R3r",
        "colab": {
          "base_uri": "https://localhost:8080/"
        },
        "outputId": "f59d4170-cfcb-424d-e2b7-2a711b2c6f7a"
      },
      "source": [
        "result = model2.evaluate(X_valid,y_valid)\n",
        "print(\"loss và accuracy trên tập val là {} {}\".format(result[0],result[1]))"
      ],
      "execution_count": 68,
      "outputs": [
        {
          "output_type": "stream",
          "name": "stdout",
          "text": [
            "35/35 [==============================] - 0s 4ms/step - loss: 0.0626 - accuracy: 0.9857\n",
            "loss và accuracy trên tập val là 0.06261223554611206 0.9856502413749695\n"
          ]
        }
      ]
    },
    {
      "cell_type": "code",
      "metadata": {
        "id": "1Za-tGZrZfMg"
      },
      "source": [
        "times.append(stop-start)\n",
        "performances.append(result[1])"
      ],
      "execution_count": 69,
      "outputs": []
    },
    {
      "cell_type": "code",
      "metadata": {
        "colab": {
          "base_uri": "https://localhost:8080/",
          "height": 112
        },
        "id": "0LSIvn5uEROW",
        "outputId": "7c0ff63b-1e4a-4f72-b679-1b9dfaa29833"
      },
      "source": [
        "import pandas as pd\n",
        "  \n",
        "# initialize list of lists\n",
        "data = {\n",
        "  \"Times\": times,\n",
        "  \"Accuracy\": performances\n",
        "}\n",
        "  \n",
        "# Create the pandas DataFrame\n",
        "df = pd.DataFrame(data, index =['Trainable = False',\n",
        "                                'Trainable = True'])\n",
        "df  "
      ],
      "execution_count": 75,
      "outputs": [
        {
          "output_type": "execute_result",
          "data": {
            "text/html": [
              "<div>\n",
              "<style scoped>\n",
              "    .dataframe tbody tr th:only-of-type {\n",
              "        vertical-align: middle;\n",
              "    }\n",
              "\n",
              "    .dataframe tbody tr th {\n",
              "        vertical-align: top;\n",
              "    }\n",
              "\n",
              "    .dataframe thead th {\n",
              "        text-align: right;\n",
              "    }\n",
              "</style>\n",
              "<table border=\"1\" class=\"dataframe\">\n",
              "  <thead>\n",
              "    <tr style=\"text-align: right;\">\n",
              "      <th></th>\n",
              "      <th>Times</th>\n",
              "      <th>Accuracy</th>\n",
              "    </tr>\n",
              "  </thead>\n",
              "  <tbody>\n",
              "    <tr>\n",
              "      <th>Trainable = False</th>\n",
              "      <td>5.653474</td>\n",
              "      <td>0.982063</td>\n",
              "    </tr>\n",
              "    <tr>\n",
              "      <th>Trainable = True</th>\n",
              "      <td>21.132389</td>\n",
              "      <td>0.985650</td>\n",
              "    </tr>\n",
              "  </tbody>\n",
              "</table>\n",
              "</div>"
            ],
            "text/plain": [
              "                       Times  Accuracy\n",
              "Trainable = False   5.653474  0.982063\n",
              "Trainable = True   21.132389  0.985650"
            ]
          },
          "metadata": {},
          "execution_count": 75
        }
      ]
    },
    {
      "cell_type": "markdown",
      "metadata": {
        "id": "ccmC5jMCFuPd"
      },
      "source": [
        "So sánh giữa 2 trường hợp **Trainable = True** và **Trainable = False**, ta thấy rằng đối với **Trainable = True** thì **accuracy** của phương pháp này ra cao hơn so với **Trainable = False**, tuy nhiên lượng thời gian để chạy phương pháp này là khá lâu (21s so với 5s của **Trainable = False**) do ta phải cập nhật lại các bộ tham số mới sau mỗi epoch. Do vậy đối với data này , nếu ta ưu tiên kết quả hơn thì **Trainable = True** sẽ hữu dụng hơn còn nếu ta quan tâm về thời gian chạy thì sẽ chọn phương pháp còn lại."
      ]
    },
    {
      "cell_type": "code",
      "metadata": {
        "id": "nciQSEKwFL0a"
      },
      "source": [
        ""
      ],
      "execution_count": null,
      "outputs": []
    }
  ]
}