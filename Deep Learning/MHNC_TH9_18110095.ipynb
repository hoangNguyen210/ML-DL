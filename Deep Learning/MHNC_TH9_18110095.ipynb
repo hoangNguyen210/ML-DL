{
 "cells": [
  {
   "cell_type": "markdown",
   "metadata": {
    "id": "GLGmFg7QxPSa"
   },
   "source": [
    "**MHNC LAB 09: REFORCEMENT LEARNING**\n",
    "\n",
    "### NGUYỄN MINH HOÀNG 18110095"
   ]
  },
  {
   "cell_type": "code",
   "execution_count": 24,
   "metadata": {
    "colab": {
     "base_uri": "https://localhost:8080/"
    },
    "id": "nKt5phSoAG0Q",
    "outputId": "76e70e6e-1d9b-437c-a78a-991e95eaacf5"
   },
   "outputs": [
    {
     "name": "stdout",
     "output_type": "stream",
     "text": [
      "Requirement already satisfied: gym in /usr/local/lib/python3.7/dist-packages (0.17.3)\n",
      "Requirement already satisfied: scipy in /usr/local/lib/python3.7/dist-packages (from gym) (1.4.1)\n",
      "Requirement already satisfied: numpy>=1.10.4 in /usr/local/lib/python3.7/dist-packages (from gym) (1.19.5)\n",
      "Requirement already satisfied: pyglet<=1.5.0,>=1.4.0 in /usr/local/lib/python3.7/dist-packages (from gym) (1.5.0)\n",
      "Requirement already satisfied: cloudpickle<1.7.0,>=1.2.0 in /usr/local/lib/python3.7/dist-packages (from gym) (1.3.0)\n",
      "Requirement already satisfied: future in /usr/local/lib/python3.7/dist-packages (from pyglet<=1.5.0,>=1.4.0->gym) (0.16.0)\n",
      "Ign:1 https://developer.download.nvidia.com/compute/cuda/repos/ubuntu1804/x86_64  InRelease\n",
      "Get:2 http://security.ubuntu.com/ubuntu bionic-security InRelease [88.7 kB]\n",
      "Hit:3 http://ppa.launchpad.net/c2d4u.team/c2d4u4.0+/ubuntu bionic InRelease\n",
      "Hit:4 http://archive.ubuntu.com/ubuntu bionic InRelease\n",
      "Ign:5 https://developer.download.nvidia.com/compute/machine-learning/repos/ubuntu1804/x86_64  InRelease\n",
      "Hit:6 https://cloud.r-project.org/bin/linux/ubuntu bionic-cran40/ InRelease\n",
      "Hit:7 https://developer.download.nvidia.com/compute/cuda/repos/ubuntu1804/x86_64  Release\n",
      "Hit:8 https://developer.download.nvidia.com/compute/machine-learning/repos/ubuntu1804/x86_64  Release\n",
      "Get:9 http://archive.ubuntu.com/ubuntu bionic-updates InRelease [88.7 kB]\n",
      "Hit:10 http://ppa.launchpad.net/cran/libgit2/ubuntu bionic InRelease\n",
      "Hit:11 http://ppa.launchpad.net/deadsnakes/ppa/ubuntu bionic InRelease\n",
      "Get:12 http://archive.ubuntu.com/ubuntu bionic-backports InRelease [74.6 kB]\n",
      "Hit:13 http://ppa.launchpad.net/graphics-drivers/ppa/ubuntu bionic InRelease\n",
      "Fetched 252 kB in 3s (83.2 kB/s)\n",
      "Reading package lists... Done\n",
      "Building dependency tree       \n",
      "Reading state information... Done\n",
      "78 packages can be upgraded. Run 'apt list --upgradable' to see them.\n",
      "Reading package lists... Done\n",
      "Building dependency tree       \n",
      "Reading state information... Done\n",
      "xvfb is already the newest version (2:1.19.6-1ubuntu4.10).\n",
      "0 upgraded, 0 newly installed, 0 to remove and 78 not upgraded.\n",
      "E: Unable to locate package libcusparse8.0\n",
      "E: Couldn't find any package by glob 'libcusparse8.0'\n",
      "E: Couldn't find any package by regex 'libcusparse8.0'\n",
      "E: Unable to locate package libnvrtc8.0\n",
      "E: Couldn't find any package by glob 'libnvrtc8.0'\n",
      "E: Couldn't find any package by regex 'libnvrtc8.0'\n",
      "Requirement already satisfied: pyglet in /usr/local/lib/python3.7/dist-packages (1.5.0)\n",
      "Requirement already satisfied: future in /usr/local/lib/python3.7/dist-packages (from pyglet) (0.16.0)\n",
      "Requirement already satisfied: pyopengl in /usr/local/lib/python3.7/dist-packages (3.1.5)\n",
      "Requirement already satisfied: pyvirtualdisplay in /usr/local/lib/python3.7/dist-packages (0.2.5)\n",
      "Requirement already satisfied: EasyProcess in /usr/local/lib/python3.7/dist-packages (from pyvirtualdisplay) (0.3)\n"
     ]
    }
   ],
   "source": [
    "\n",
    "# tải các thư viện cần thiết\n",
    "\n",
    "\n",
    "! pip install gym\n",
    "!apt update\n",
    "!apt install xvfb\n",
    "!apt-get -qq -y install libcusparse8.0 libnvrtc8.0 $ibnvtoolsext1 > /dev/null\n",
    "!ln -snf /usr/lib/x86_64-linux-gnu/libnvrtc-builtins.so.8.0 /usr/lib/x86_64-linux-gnu/libnvrtc-builtins.so\n",
    "\n",
    "!apt-get -qq -y install xvfb freeglut3-dev ffmpeg> /dev/null\n",
    "!pip install pyglet\n",
    "!pip install pyopengl\n",
    "!pip install pyvirtualdisplay\n",
    "\n"
   ]
  },
  {
   "cell_type": "code",
   "execution_count": 25,
   "metadata": {
    "colab": {
     "base_uri": "https://localhost:8080/"
    },
    "id": "yBi7Um85Cxmh",
    "outputId": "d9125863-710a-4849-c21d-1eb8f0e8885b"
   },
   "outputs": [
    {
     "name": "stdout",
     "output_type": "stream",
     "text": [
      "Reading package lists...\n",
      "Building dependency tree...\n",
      "Reading state information...\n",
      "x11-utils is already the newest version (7.7+3build1).\n",
      "xvfb is already the newest version (2:1.19.6-1ubuntu4.10).\n",
      "0 upgraded, 0 newly installed, 0 to remove and 78 not upgraded.\n",
      "Requirement already satisfied: gym[box2d]==0.17.* in /usr/local/lib/python3.7/dist-packages (0.17.3)\n",
      "Requirement already satisfied: pyvirtualdisplay==0.2.* in /usr/local/lib/python3.7/dist-packages (0.2.5)\n",
      "Requirement already satisfied: PyOpenGL==3.1.* in /usr/local/lib/python3.7/dist-packages (3.1.5)\n",
      "Requirement already satisfied: PyOpenGL-accelerate==3.1.* in /usr/local/lib/python3.7/dist-packages (3.1.5)\n",
      "Requirement already satisfied: EasyProcess in /usr/local/lib/python3.7/dist-packages (from pyvirtualdisplay==0.2.*) (0.3)\n",
      "Requirement already satisfied: pyglet<=1.5.0,>=1.4.0 in /usr/local/lib/python3.7/dist-packages (from gym[box2d]==0.17.*) (1.5.0)\n",
      "Requirement already satisfied: scipy in /usr/local/lib/python3.7/dist-packages (from gym[box2d]==0.17.*) (1.4.1)\n",
      "Requirement already satisfied: cloudpickle<1.7.0,>=1.2.0 in /usr/local/lib/python3.7/dist-packages (from gym[box2d]==0.17.*) (1.3.0)\n",
      "Requirement already satisfied: numpy>=1.10.4 in /usr/local/lib/python3.7/dist-packages (from gym[box2d]==0.17.*) (1.19.5)\n",
      "Requirement already satisfied: box2d-py~=2.3.5 in /usr/local/lib/python3.7/dist-packages (from gym[box2d]==0.17.*) (2.3.8)\n",
      "Requirement already satisfied: future in /usr/local/lib/python3.7/dist-packages (from pyglet<=1.5.0,>=1.4.0->gym[box2d]==0.17.*) (0.16.0)\n"
     ]
    }
   ],
   "source": [
    "%%bash\n",
    "\n",
    "apt-get install -y xvfb x11-utils\n",
    "\n",
    "pip install gym[box2d]==0.17.* pyvirtualdisplay==0.2.* PyOpenGL==3.1.* PyOpenGL-accelerate==3.1.*"
   ]
  },
  {
   "cell_type": "code",
   "execution_count": 26,
   "metadata": {
    "id": "jQQxSyWADLNF"
   },
   "outputs": [],
   "source": [
    "\n",
    "\n",
    "import io\n",
    "import time\n",
    "import random\n",
    "import math\n",
    "import glob\n",
    "import base64\n",
    "import numpy as np\n",
    "import tensorflow as tf\n",
    "import matplotlib.pyplot as plt\n",
    "%matplotlib inline\n",
    "from IPython.display import HTML\n",
    "from IPython.display import clear_output\n",
    "from IPython import display as ipythondisplay\n",
    "\n",
    "# ------------------------------------------\n",
    "from keras.models     import Sequential\n",
    "from keras.layers     import Dense\n",
    "from tensorflow.keras.optimizers import Adam\n",
    "# ----------------------------------------------\n",
    "import gym\n",
    "from gym import logger as gymlogger\n",
    "from gym.wrappers import Monitor\n",
    "gymlogger.set_level(40) "
   ]
  },
  {
   "cell_type": "markdown",
   "metadata": {
    "id": "VR3Z2ZTVFjgD"
   },
   "source": [
    "## 1. Giải thích vì sao khi dùng Naive-Learning thì xe taxi chỉ đứng yên một chỗ?"
   ]
  },
  {
   "cell_type": "markdown",
   "metadata": {
    "id": "d2seV8Yo30RP"
   },
   "source": [
    "Bản thân Agent đứng yên tại một chỗ không hẳn là do chúng không di chuyển , mà là trong quá trình khởi tạo Agent , chúng sẽ có xu hướng di chuyển về phía bức tường rồi tiếp tục đập đầu vào nó. Điều này làm chúng ta lầm tưởng Agent bị đứng yên. Việc này xảy ra là do đối với thuật toán **Naive Learning**, agent sẽ chọn hành động có reward tốt nhất mà không quan tâm các action trong tương lai.\n",
    "\n",
    "Đồng thời ta cũng không thể nói rằng Agent đứng yên do các action đón khách và trả khách vì dối với trường hợp các action này, thì ta nhận thấy rằng việc thực hiện action này sai vị trí sẽ bị trừ điểm rất nặng. Do thuộc tính của **Naive Learning** là điểm bằng nhau thì Agent sẽ chọn ngẫu nhiên action dẫn đến việc Agent có khả năng chọn các action này sai vị trí."
   ]
  },
  {
   "cell_type": "markdown",
   "metadata": {
    "id": "7AsUbLDZFqsx"
   },
   "source": [
    "## 2. Giải thích vì sao khi dùng Q-Leaning thì xe taxi có thể đón và trả khách được?"
   ]
  },
  {
   "cell_type": "markdown",
   "metadata": {
    "id": "hZ7ur-iZ8rR9"
   },
   "source": [
    "Đối vói **Q-learning**, thuật toán này có cải tiến hơn so với **Naive Learning** ở chỗ chúng có quan tâm tới reward trong tương lai, việc này khiến agent sau khi thực hiện 1 action thì chúng còn quan sát các action khác để coi reward như thế nào. Như vậy sau khi huấn luyện đủ lâu trong environment , thì agent thấy rằng việc đón khách và trả khách đúng chỗ đem lại cho nó rất nhiều reward nên chúng sẽ luôn cân nhắc thực hiện các action này."
   ]
  },
  {
   "cell_type": "markdown",
   "metadata": {
    "id": "AQBThyGEB4cZ"
   },
   "source": [
    "## 3. Tìm hiểu một game khác trên OpenAI và thiết lập cho agent chơi được"
   ]
  },
  {
   "cell_type": "markdown",
   "metadata": {
    "id": "muUmP3NaMw3i"
   },
   "source": [
    "Ta sẽ chọn trò **MountainCar** trong OpenAI. Trò chơi này sẽ bắt đầu với 1 agent là 1 chiếc xe ở dưới đáy của 1 thung lũng. Với bất kì một state nào thì agent sẽ có 3 action là đi qua trái , đi qua phải hay ngừng ở một vận tốc bất kì.\n",
    "\n",
    "**State** :\n",
    "      State của trò chơi này sẽ có 2 phần tử. Thứ nhất là vị trí của xe, giá trị này nằm trong khoảng [-1.2,0.6]. Thứ hai là vận tốc của xe và chúng nằm trong khoảng [-0.07,0.07].\n",
    "\n",
    "**Action** : \n",
    "      Như đã đề cập ở trên sẽ có 3 action có giá trị là [0,1,2] và các hoạt động tương ứng của nó là: \n",
    "  0.   Di chuyển sang trái\n",
    "  1.   Không di chuyển\n",
    "  2.   Di chuyển sang phải\n",
    "\n",
    "**Reward** : \n",
    "      Ta sẽ có reward là 0 nếu Agent đi tới cây cờ (vị trí 0.5) ở trên đỉnh núi. Ngược lại mỗi bước di chuyển của Agent sẽ bị trừ đi 1 điểm nếu không đến được lá cờ. **Ta có thể thấy rằng reward trong trò chơi này sẽ là số âm.**\n",
    "\n",
    "**Starting State**:\n",
    "      Vị trí bắt đầu của chiếc xe sẽ là một con số bất kì nằm trong khoảng [-0.6,-0.4]. Và vận tốc bắt đầu là 0.\n",
    "\n",
    "**Episode Termination**:\n",
    "      Trò chơi sẽ kết thúc nếu Agent qua được lá cờ (vị trí lớn hơn hay bằng 0.5) hay số lần di chuyển trong 1 episode vượt quá 200.\n",
    "\n",
    "\n",
    "\n"
   ]
  },
  {
   "cell_type": "code",
   "execution_count": 27,
   "metadata": {
    "id": "tmztcQ5vlTTQ"
   },
   "outputs": [],
   "source": [
    "def show_video():\n",
    "  '''\n",
    "  Hàm này sẽ giúp ta xuất ra video ở episode cuối về cách chơi của Agent\n",
    "  '''\n",
    "  mp4list = glob.glob('video/*.mp4')\n",
    "  if len(mp4list) > 0:\n",
    "    mp4 = mp4list[0]\n",
    "    video = io.open(mp4, 'r+b').read()\n",
    "    encoded = base64.b64encode(video)\n",
    "    ipythondisplay.display(HTML(data='''<video alt=\"test\" autoplay \n",
    "                loop controls style=\"height: 400px;\">\n",
    "                <source src=\"data:video/mp4;base64,{0}\" type=\"video/mp4\" />\n",
    "             </video>'''.format(encoded.decode('ascii'))))\n",
    "  else: \n",
    "    print(\"Could not find video\")\n",
    "    \n",
    "\n",
    "def wrap_env(env):\n",
    "  '''\n",
    "  Hàm này sẽ cho ta kích hoạt video\n",
    "  Hàm có input là tên environment\n",
    "  '''\n",
    "  env = gym.wrappers.Monitor(env, './video'  , force=True)\n",
    "  return env\n",
    "\n",
    "\n",
    "def query_environment(name):\n",
    "  '''\n",
    "  Hàm này dùng để in ra thử các thuộc tính của môi trường như action, reward...\n",
    "  '''\n",
    "  env = gym.make(name)\n",
    "  spec = gym.spec(name)\n",
    "  print(f\"Action Space: {env.action_space}\")\n",
    "  print(f\"Observation Space: {env.observation_space}\")\n",
    "  print(f\"Max Episode Steps: {spec.max_episode_steps}\")\n",
    "  print(f\"Nondeterministic: {spec.nondeterministic}\")\n",
    "  print(f\"Reward Range: {env.reward_range}\")\n",
    "  print(f\"Reward Threshold: {spec.reward_threshold}\")"
   ]
  },
  {
   "cell_type": "code",
   "execution_count": 28,
   "metadata": {
    "colab": {
     "base_uri": "https://localhost:8080/"
    },
    "id": "D3sE0pekF0Br",
    "outputId": "8cd76850-abcc-4c52-dffc-e3fdf9494a5d"
   },
   "outputs": [
    {
     "name": "stdout",
     "output_type": "stream",
     "text": [
      "Action Space: Discrete(3)\n",
      "Observation Space: Box(-1.2000000476837158, 0.6000000238418579, (2,), float32)\n",
      "Max Episode Steps: 200\n",
      "Nondeterministic: False\n",
      "Reward Range: (-inf, inf)\n",
      "Reward Threshold: -110.0\n"
     ]
    }
   ],
   "source": [
    "query_environment('MountainCar-v0')"
   ]
  },
  {
   "cell_type": "code",
   "execution_count": 29,
   "metadata": {
    "colab": {
     "base_uri": "https://localhost:8080/"
    },
    "id": "YVW7j6E0F1Tf",
    "outputId": "2dc4aef7-1ace-454e-89d4-14df96bd6c08"
   },
   "outputs": [
    {
     "data": {
      "text/plain": [
       "<Display cmd_param=['Xvfb', '-br', '-nolisten', 'tcp', '-screen', '0', '1400x900x24', ':1005'] cmd=['Xvfb', '-br', '-nolisten', 'tcp', '-screen', '0', '1400x900x24', ':1005'] oserror=None return_code=None stdout=\"None\" stderr=\"None\" timeout_happened=False>"
      ]
     },
     "execution_count": 29,
     "metadata": {},
     "output_type": "execute_result"
    }
   ],
   "source": [
    "from pyvirtualdisplay import Display\n",
    "# dùng để display từng frame của agent\n",
    "display = Display(visible=0, size=(1400, 900))   \n",
    "display.start()"
   ]
  },
  {
   "cell_type": "code",
   "execution_count": 30,
   "metadata": {
    "colab": {
     "base_uri": "https://localhost:8080/"
    },
    "id": "6yEHKX4oF3ky",
    "outputId": "fa07e51c-0b1f-4595-f13c-bee922d7836c"
   },
   "outputs": [
    {
     "data": {
      "text/plain": [
       "array([-0.5032905,  0.       ])"
      ]
     },
     "execution_count": 30,
     "metadata": {},
     "output_type": "execute_result"
    }
   ],
   "source": [
    "# env = gym.make('MountainCar-v0')\n",
    "env = wrap_env(gym.make('MountainCar-v0'))\n",
    "env.reset()"
   ]
  },
  {
   "cell_type": "code",
   "execution_count": 31,
   "metadata": {
    "colab": {
     "base_uri": "https://localhost:8080/"
    },
    "id": "AOUq82tZXR5-",
    "outputId": "ef327812-5fae-4610-eb42-0825593c28c9"
   },
   "outputs": [
    {
     "name": "stdout",
     "output_type": "stream",
     "text": [
      "[-5.03442721e-01 -1.52217836e-04]\n"
     ]
    }
   ],
   "source": [
    "action = random.randrange(0, 3)\n",
    "state, reward, done, info = env.step(action)\n",
    "print(state)"
   ]
  },
  {
   "cell_type": "code",
   "execution_count": 33,
   "metadata": {
    "colab": {
     "base_uri": "https://localhost:8080/"
    },
    "id": "cUnHl2J5F4k_",
    "outputId": "0f764b73-c04d-441f-b7b2-af843646bfb7"
   },
   "outputs": [
    {
     "name": "stdout",
     "output_type": "stream",
     "text": [
      "Number of actions possible:  3\n",
      "Observation space:  Box(-1.2000000476837158, 0.6000000238418579, (2,), float32)\n",
      "Highest value:  [0.6  0.07]\n",
      "Lowest value:  [-1.2  -0.07]\n"
     ]
    }
   ],
   "source": [
    "n_action = env.action_space.n\n",
    "env_low = env.observation_space.low\n",
    "env_high = env.observation_space.high\n",
    "bins = 30 # number of states for discretization\n",
    "print('Number of actions possible: ', n_action)  # các action có thể thực hiện\n",
    "print('Observation space: ', env.observation_space) # state của agent hiện tại (vị trí,vận tốc)\n",
    "print('Highest value: ', env_high) # giá trị lớn nhất của vị trí và vận tốc\n",
    "print('Lowest value: ', env_low) # giá trị nhỏ nhất của vị trí và vận tốc"
   ]
  },
  {
   "cell_type": "code",
   "execution_count": 34,
   "metadata": {
    "id": "jEgRF8GlGL20"
   },
   "outputs": [],
   "source": [
    "\n",
    "goal_steps = 200   # là giá trị tới hạn của trò chơi , vượt quá 200 trò chơi sẽ ngừng\n",
    "score_requirement = -198 # số nhỏ hơn giá trị này cho biết agent đã vượt qua được lá cờ (do < 200)\n",
    "intial_games = 10000  # số game mà ta muốn chơi"
   ]
  },
  {
   "cell_type": "markdown",
   "metadata": {
    "id": "p9rug5scY1z-"
   },
   "source": [
    "### a. RANDOM ACTION"
   ]
  },
  {
   "cell_type": "code",
   "execution_count": 41,
   "metadata": {
    "colab": {
     "base_uri": "https://localhost:8080/"
    },
    "id": "hpLrO6sY1dlB",
    "outputId": "1a1be145-7e8a-46f6-9517-9b16c8ac2ad4"
   },
   "outputs": [
    {
     "name": "stdout",
     "output_type": "stream",
     "text": [
      "Episode : 1, Reward : -200.0\n",
      "Episode : 2, Reward : -200.0\n",
      "Episode : 3, Reward : -200.0\n",
      "Episode : 4, Reward : -200.0\n",
      "Episode : 5, Reward : -200.0\n",
      "Episode : 6, Reward : -200.0\n",
      "Episode : 7, Reward : -200.0\n",
      "Episode : 8, Reward : -200.0\n",
      "Episode : 9, Reward : -200.0\n",
      "Episode : 10, Reward : -200.0\n",
      "Episode : 11, Reward : -200.0\n",
      "Episode : 12, Reward : -200.0\n",
      "Episode : 13, Reward : -200.0\n",
      "Episode : 14, Reward : -200.0\n",
      "Episode : 15, Reward : -200.0\n",
      "Episode : 16, Reward : -200.0\n",
      "Episode : 17, Reward : -200.0\n",
      "Episode : 18, Reward : -200.0\n",
      "Episode : 19, Reward : -200.0\n",
      "Episode : 20, Reward : -200.0\n",
      "Episode : 21, Reward : -200.0\n",
      "Episode : 22, Reward : -200.0\n",
      "Episode : 23, Reward : -200.0\n",
      "Episode : 24, Reward : -200.0\n",
      "Episode : 25, Reward : -200.0\n",
      "Episode : 26, Reward : -200.0\n",
      "Episode : 27, Reward : -200.0\n",
      "Episode : 28, Reward : -200.0\n",
      "Episode : 29, Reward : -200.0\n",
      "Episode : 30, Reward : -200.0\n",
      "Episode : 31, Reward : -200.0\n",
      "Episode : 32, Reward : -200.0\n",
      "Episode : 33, Reward : -200.0\n",
      "Episode : 34, Reward : -200.0\n",
      "Episode : 35, Reward : -200.0\n",
      "Episode : 36, Reward : -200.0\n",
      "Episode : 37, Reward : -200.0\n",
      "Episode : 38, Reward : -200.0\n",
      "Episode : 39, Reward : -200.0\n",
      "Episode : 40, Reward : -200.0\n",
      "Episode : 41, Reward : -200.0\n",
      "Episode : 42, Reward : -200.0\n",
      "Episode : 43, Reward : -200.0\n",
      "Episode : 44, Reward : -200.0\n",
      "Episode : 45, Reward : -200.0\n",
      "Episode : 46, Reward : -200.0\n",
      "Episode : 47, Reward : -200.0\n",
      "Episode : 48, Reward : -200.0\n",
      "Episode : 49, Reward : -200.0\n",
      "Episode : 50, Reward : -200.0\n",
      "Episode : 51, Reward : -200.0\n",
      "Episode : 52, Reward : -200.0\n",
      "Episode : 53, Reward : -200.0\n",
      "Episode : 54, Reward : -200.0\n",
      "Episode : 55, Reward : -200.0\n",
      "Episode : 56, Reward : -200.0\n",
      "Episode : 57, Reward : -200.0\n",
      "Episode : 58, Reward : -200.0\n",
      "Episode : 59, Reward : -200.0\n",
      "Episode : 60, Reward : -200.0\n",
      "Episode : 61, Reward : -200.0\n",
      "Episode : 62, Reward : -200.0\n",
      "Episode : 63, Reward : -200.0\n",
      "Episode : 64, Reward : -200.0\n",
      "Episode : 65, Reward : -200.0\n",
      "Episode : 66, Reward : -200.0\n",
      "Episode : 67, Reward : -200.0\n",
      "Episode : 68, Reward : -200.0\n",
      "Episode : 69, Reward : -200.0\n",
      "Episode : 70, Reward : -200.0\n",
      "Episode : 71, Reward : -200.0\n",
      "Episode : 72, Reward : -200.0\n",
      "Episode : 73, Reward : -200.0\n",
      "Episode : 74, Reward : -200.0\n",
      "Episode : 75, Reward : -200.0\n",
      "Episode : 76, Reward : -200.0\n",
      "Episode : 77, Reward : -200.0\n",
      "Episode : 78, Reward : -200.0\n",
      "Episode : 79, Reward : -200.0\n",
      "Episode : 80, Reward : -200.0\n",
      "Episode : 81, Reward : -200.0\n",
      "Episode : 82, Reward : -200.0\n",
      "Episode : 83, Reward : -200.0\n",
      "Episode : 84, Reward : -200.0\n",
      "Episode : 85, Reward : -200.0\n",
      "Episode : 86, Reward : -200.0\n",
      "Episode : 87, Reward : -200.0\n",
      "Episode : 88, Reward : -200.0\n",
      "Episode : 89, Reward : -200.0\n",
      "Episode : 90, Reward : -200.0\n",
      "Episode : 91, Reward : -200.0\n",
      "Episode : 92, Reward : -200.0\n",
      "Episode : 93, Reward : -200.0\n",
      "Episode : 94, Reward : -200.0\n",
      "Episode : 95, Reward : -200.0\n",
      "Episode : 96, Reward : -200.0\n",
      "Episode : 97, Reward : -200.0\n",
      "Episode : 98, Reward : -200.0\n",
      "Episode : 99, Reward : -200.0\n",
      "Episode : 100, Reward : -200.0\n"
     ]
    }
   ],
   "source": [
    "episodes = 100\n",
    "env = wrap_env(gym.make('MountainCar-v0'))\n",
    "for i in range(episodes):  \n",
    "  env.reset()\n",
    "  rewards = 0\n",
    "  for step_index in range(goal_steps):\n",
    "      env.render()\n",
    "      action = env.action_space.sample()  # chọn action bất kì\n",
    "      observation, reward, done, info = env.step(action)\n",
    "      rewards += reward\n",
    "      if done:\n",
    "          break\n",
    "  print('Episode : {}, Reward : {}'.format(i+1,rewards))\n",
    "  "
   ]
  },
  {
   "cell_type": "code",
   "execution_count": 42,
   "metadata": {
    "colab": {
     "base_uri": "https://localhost:8080/",
     "height": 421
    },
    "id": "eEYNiNcY1zSX",
    "outputId": "5b05547a-e9ee-4059-f1e5-57049433137d"
   },
   "outputs": [
    {
     "data": {
      "text/html": [
       "<video alt=\"test\" autoplay \n",
       "                loop controls style=\"height: 400px;\">\n",
       "                <source src=\"data:video/mp4;base64,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\" type=\"video/mp4\" />\n",
       "             </video>"
      ],
      "text/plain": [
       "<IPython.core.display.HTML object>"
      ]
     },
     "metadata": {},
     "output_type": "display_data"
    }
   ],
   "source": [
    "\n",
    "show_video() "
   ]
  },
  {
   "cell_type": "markdown",
   "metadata": {
    "id": "uXMkptvT2WcX"
   },
   "source": [
    "Ta thấy rằng việc chọn action bất kì sau mỗi timestep khiến Agent không hoàn thành được trò chơi."
   ]
  },
  {
   "cell_type": "markdown",
   "metadata": {
    "id": "EEn1lc7sY5--"
   },
   "source": [
    "### b. DEEP Q-LEARNING\n",
    "\n",
    "Q -learning là một thuật toán học tăng cường không mô hình. Mục tiêu của Q-learning là học một chính sách, chính sách cho biết máy sẽ thực hiện hành động nào trong hoàn cảnh nào. Q-learning sẽ dùng Q-table để lưu trữ các giá trị của state-action và Q-value tương ứng với state action đó.\n",
    "\n",
    "\n",
    "Tuy nhiên trong bài toán mà ta có nhiều trương hợp state-action value thì việc lưu trữ này rất tốn kém. Do đó ta mới nãy ra 1 cách cải tiến hơn Q-learning là Deep Q-learning. \n",
    "\n",
    "Deep Q-learning = Q-learning + Deep Neural Network\n",
    "\n",
    "Deep Q-learning là 1 cách mà ta dùng mạng Neuron để lưu trữ các giá trị trong Q-table."
   ]
  },
  {
   "cell_type": "code",
   "execution_count": 36,
   "metadata": {
    "colab": {
     "base_uri": "https://localhost:8080/"
    },
    "id": "i0jtEKp0HfoX",
    "outputId": "859a5ba1-bc98-4287-8377-58febb6b2042"
   },
   "outputs": [
    {
     "name": "stdout",
     "output_type": "stream",
     "text": [
      "Episode : 0, Reward : -200.0\n",
      "Episode : 100, Reward : -200.0\n",
      "Episode : 200, Reward : -200.0\n",
      "Episode : 300, Reward : -200.0\n",
      "Episode : 400, Reward : -200.0\n",
      "Episode : 500, Reward : -200.0\n",
      "Episode : 600, Reward : -200.0\n",
      "Episode : 700, Reward : -200.0\n",
      "Episode : 800, Reward : -200.0\n",
      "Episode : 900, Reward : -200.0\n",
      "Episode : 1000, Reward : -200.0\n",
      "Episode : 1100, Reward : -200.0\n",
      "Episode : 1200, Reward : -200.0\n",
      "Episode : 1300, Reward : -200.0\n",
      "Episode : 1400, Reward : -200.0\n",
      "Episode : 1500, Reward : -200.0\n",
      "Episode : 1600, Reward : -200.0\n",
      "Episode : 1700, Reward : -200.0\n",
      "Episode : 1800, Reward : -200.0\n",
      "Episode : 1900, Reward : -200.0\n",
      "Episode : 2000, Reward : -200.0\n",
      "Episode : 2100, Reward : -200.0\n",
      "Episode : 2200, Reward : -200.0\n",
      "Episode : 2300, Reward : -200.0\n",
      "Episode : 2400, Reward : -200.0\n",
      "Episode : 2500, Reward : -200.0\n",
      "Episode : 2600, Reward : -200.0\n",
      "Episode : 2700, Reward : -200.0\n",
      "Episode : 2800, Reward : -200.0\n",
      "Episode : 2900, Reward : -200.0\n",
      "Episode : 3000, Reward : -200.0\n",
      "Episode : 3100, Reward : -200.0\n",
      "Episode : 3200, Reward : -200.0\n",
      "Episode : 3300, Reward : -200.0\n",
      "Episode : 3400, Reward : -200.0\n",
      "Episode : 3500, Reward : -200.0\n",
      "Episode : 3600, Reward : -200.0\n",
      "Episode : 3700, Reward : -200.0\n",
      "Episode : 3800, Reward : -200.0\n",
      "Episode : 3900, Reward : -200.0\n",
      "Episode : 4000, Reward : -200.0\n",
      "Episode : 4100, Reward : -200.0\n",
      "Episode : 4200, Reward : -200.0\n",
      "Episode : 4300, Reward : -200.0\n",
      "Episode : 4400, Reward : -200.0\n",
      "Episode : 4500, Reward : -200.0\n",
      "Episode : 4600, Reward : -200.0\n",
      "Episode : 4700, Reward : -200.0\n",
      "Episode : 4800, Reward : -200.0\n",
      "Episode : 4900, Reward : -200.0\n",
      "Episode : 5000, Reward : -200.0\n",
      "Episode : 5100, Reward : -200.0\n",
      "Episode : 5200, Reward : -200.0\n",
      "Episode : 5300, Reward : -200.0\n",
      "Episode : 5400, Reward : -200.0\n",
      "Episode : 5500, Reward : -200.0\n",
      "Episode : 5600, Reward : -200.0\n",
      "Episode : 5700, Reward : -200.0\n",
      "Episode : 5800, Reward : -200.0\n",
      "Episode : 5900, Reward : -200.0\n",
      "Episode : 6000, Reward : -200.0\n",
      "Episode : 6100, Reward : -200.0\n",
      "Episode : 6200, Reward : -200.0\n",
      "Episode : 6300, Reward : -200.0\n",
      "Episode : 6400, Reward : -200.0\n",
      "Episode : 6500, Reward : -200.0\n",
      "Episode : 6600, Reward : -200.0\n",
      "Episode : 6700, Reward : -200.0\n",
      "Episode : 6800, Reward : -200.0\n",
      "Episode : 6900, Reward : -200.0\n",
      "Episode : 7000, Reward : -200.0\n",
      "Episode : 7100, Reward : -200.0\n",
      "Episode : 7200, Reward : -200.0\n",
      "Episode : 7300, Reward : -200.0\n",
      "Episode : 7400, Reward : -200.0\n",
      "Episode : 7500, Reward : -200.0\n",
      "Episode : 7600, Reward : -200.0\n",
      "Episode : 7700, Reward : -200.0\n",
      "Episode : 7800, Reward : -200.0\n",
      "Episode : 7900, Reward : -200.0\n",
      "Episode : 8000, Reward : -200.0\n",
      "Episode : 8100, Reward : -200.0\n",
      "Episode : 8200, Reward : -200.0\n",
      "Episode : 8300, Reward : -200.0\n",
      "Episode : 8400, Reward : -200.0\n",
      "Episode : 8500, Reward : -200.0\n",
      "Episode : 8600, Reward : -200.0\n",
      "Episode : 8700, Reward : -200.0\n",
      "Episode : 8800, Reward : -200.0\n",
      "Episode : 8900, Reward : -200.0\n",
      "Episode : 9000, Reward : -200.0\n",
      "Episode : 9100, Reward : -200.0\n",
      "Episode : 9200, Reward : -200.0\n",
      "Episode : 9300, Reward : -200.0\n",
      "Episode : 9400, Reward : -200.0\n",
      "Episode : 9500, Reward : -200.0\n",
      "Episode : 9600, Reward : -200.0\n",
      "Episode : 9700, Reward : -200.0\n",
      "Episode : 9800, Reward : -200.0\n",
      "Episode : 9900, Reward : -200.0\n",
      "Good performance of Agent :  [-188.0, -168.0, -188.0, -180.0, -166.0, -154.0, -174.0, -198.0, -182.0, -186.0, -178.0, -190.0, -192.0, -170.0, -192.0, -186.0, -196.0, -196.0, -190.0, -182.0, -178.0, -190.0, -162.0, -170.0, -188.0, -188.0, -178.0, -160.0, -186.0, -186.0, -182.0, -170.0, -170.0, -180.0, -186.0, -174.0, -176.0, -186.0, -170.0, -174.0, -164.0, -188.0, -188.0, -178.0, -180.0, -184.0, -180.0]\n"
     ]
    }
   ],
   "source": [
    "def data_preparation(episodes):\n",
    "    '''\n",
    "    Hàm này dùng để chuẩn bị data cho Neural Network để chúng lưu trữ giá trị của Q-table\n",
    "    Input đầu vào của hàm là số episodes mà ta cho agent chơi\n",
    "    Output của hàm là data gồm các giá trị của thuộc tính state-action và giá trị q tương ứng state-action đó\n",
    "    '''\n",
    "    # env = gym.make('MountainCar-v0')\n",
    "\n",
    "    env = wrap_env(gym.make('MountainCar-v0'))\n",
    "    env.reset()\n",
    "    training_data = []\n",
    "    accepted_scores = [] # list này dùng để lưu trữ các agent có reward >= -198 , tức là agent đã về đích thành công\n",
    "    for episode in range(episodes):\n",
    "        # chạy từng episodes\n",
    "        score = 0   # score sau mỗi episode\n",
    "        game_memory = [] # list dùng để lưu trữ state-action và q-value\n",
    "        previous_state = [] # list dùng để gán các state\n",
    "        for step_index in range(goal_steps):\n",
    "            action = random.randrange(0, 3)\n",
    "            state, reward, done, info = env.step(action)\n",
    "            \n",
    "            if len(previous_state) > 0:\n",
    "                game_memory.append([previous_state, action])\n",
    "            previous_state = state\n",
    "            if state[0] > -0.2:\n",
    "              # policy cho agent, nếu agent tiếp tục lên thung lũng , ta sẽ cộng điểm\n",
    "                reward = 1\n",
    "            \n",
    "            score += reward\n",
    "            if done:\n",
    "                break\n",
    "            \n",
    "        if score >= score_requirement:\n",
    "            # việc chỉ cập nhật ep sau 100 lần khiến cho người xem nghĩ agent học không tốt, ta cần lưu các lần qua đích thành công của agent\n",
    "            accepted_scores.append(score)\n",
    "\n",
    "            for data in game_memory:\n",
    "              # trong vòng lặp này ta sẽ biến đổi các giá trị của action là [0,1,2] thành các one-hot vector\n",
    "                if data[1] == 1:\n",
    "                    output = [0, 1, 0]\n",
    "                elif data[1] == 0:\n",
    "                    output = [1, 0, 0]\n",
    "                elif data[1] == 2:\n",
    "                    output = [0, 0, 1]\n",
    "                training_data.append([data[0], output])\n",
    "        \n",
    "        env.reset()\n",
    "        if episode % 100 == 0 :\n",
    "          print('Episode : {}, Reward : {}'.format(episode,score))\n",
    "    \n",
    "    print('Good performance of Agent : ',accepted_scores)\n",
    "    \n",
    "    return training_data\n",
    "training_data = data_preparation(episodes = 10000) # ta sẽ cho agent train với 10000 ep"
   ]
  },
  {
   "cell_type": "code",
   "execution_count": 37,
   "metadata": {
    "colab": {
     "base_uri": "https://localhost:8080/"
    },
    "id": "C1-T-3OiGj1x",
    "outputId": "bd7655c0-8065-4f22-f20d-76f3f7242746"
   },
   "outputs": [
    {
     "name": "stdout",
     "output_type": "stream",
     "text": [
      "Epoch 1/5\n",
      "293/293 [==============================] - 1s 2ms/step - loss: 0.2272\n",
      "Epoch 2/5\n",
      "293/293 [==============================] - 1s 2ms/step - loss: 0.2220\n",
      "Epoch 3/5\n",
      "293/293 [==============================] - 1s 2ms/step - loss: 0.2211\n",
      "Epoch 4/5\n",
      "293/293 [==============================] - 1s 2ms/step - loss: 0.2209\n",
      "Epoch 5/5\n",
      "293/293 [==============================] - 1s 2ms/step - loss: 0.2201\n"
     ]
    }
   ],
   "source": [
    "def build_model(input_size, output_size):\n",
    "    '''\n",
    "    Hàm khởi tạo một Neural Network để lưu trữ giá trị của Q-table\n",
    "    Hàm có 2 input đầu vào :\n",
    "          input_size : là số thuộc tính của bảng Q-table \n",
    "          output_size : là số action của Agent\n",
    "    Hàm có Output là Model Neural Network\n",
    "    '''\n",
    "\n",
    "    model = Sequential()\n",
    "    model.add(Dense(128, input_dim=input_size, activation='relu'))\n",
    "    model.add(Dense(52, activation='relu'))\n",
    "    model.add(Dense(output_size, activation='linear'))\n",
    "    model.compile(loss='mse', optimizer=Adam())\n",
    "\n",
    "    return model\n",
    "\n",
    "def train_model(training_data):\n",
    "    '''\n",
    "    Hàm dùng để cho model ta vừa tạo ở trên học từ data của Q-table\n",
    "    Hàm có input đầu vào là Q-table gồm 2 thuộc tính state-action và Q-value\n",
    "    Hàm có output là model sau khi train xong.\n",
    "    '''  \n",
    "    X = np.array([i[0] for i in training_data]).reshape(-1, len(training_data[0][0]))\n",
    "    y = np.array([i[1] for i in training_data]).reshape(-1, len(training_data[0][1]))\n",
    "    model = build_model(input_size=len(X[0]), output_size=len(y[0]))\n",
    "    \n",
    "    model.fit(X, y, epochs=5)\n",
    "    return model\n",
    "\n",
    "trained_model = train_model(training_data)"
   ]
  },
  {
   "cell_type": "code",
   "execution_count": 38,
   "metadata": {
    "colab": {
     "base_uri": "https://localhost:8080/"
    },
    "id": "Eo7JrhWgGjzO",
    "outputId": "cf507145-6626-482a-a525-62d43bde89b8"
   },
   "outputs": [
    {
     "name": "stdout",
     "output_type": "stream",
     "text": [
      "[-165.0, -161.0, -160.0, -162.0, -161.0, -131.0, -200.0, -163.0, -159.0, -200.0, -161.0, -162.0, -126.0, -200.0, -130.0, -167.0, -200.0, -160.0, -135.0, -130.0, -127.0, -140.0, -125.0, -195.0, -159.0, -161.0, -159.0, -125.0, -164.0, -129.0, -200.0, -162.0, -161.0, -162.0, -163.0, -179.0, -200.0, -200.0, -200.0, -161.0, -137.0, -165.0, -138.0, -127.0, -161.0, -159.0, -130.0, -161.0, -161.0, -162.0, -161.0, -159.0, -135.0, -159.0, -200.0, -165.0, -130.0, -125.0, -129.0, -127.0, -167.0, -134.0, -138.0, -172.0, -129.0, -200.0, -165.0, -200.0, -161.0, -161.0, -159.0, -135.0, -167.0, -177.0, -141.0, -162.0, -161.0, -159.0, -138.0, -161.0, -162.0, -162.0, -134.0, -127.0, -165.0, -159.0, -129.0, -130.0, -127.0, -159.0, -130.0, -161.0, -159.0, -128.0, -200.0, -165.0, -159.0, -159.0, -200.0, -200.0]\n",
      "Average Score: -157.98\n"
     ]
    }
   ],
   "source": [
    "# Xem agent học như thế nào sau khi dùng kết quả từ model\n",
    "env = wrap_env(gym.make('MountainCar-v0'))\n",
    "scores = []\n",
    "\n",
    "# ta sẽ cho chạy 100 ep\n",
    "for episode in range(100):\n",
    "    score = 0\n",
    "\n",
    "    prev_state = []\n",
    "    env.reset()\n",
    "    for step_index in range(goal_steps):\n",
    "        env.render()\n",
    "        if len(prev_state)==0:\n",
    "            action = random.randrange(0,3)\n",
    "        else:\n",
    "            action = np.argmax(trained_model.predict(prev_state.reshape(-1, len(prev_state)))[0])\n",
    "        \n",
    "        new_state, reward, done, info = env.step(action)\n",
    "        prev_state = new_state\n",
    "\n",
    "        score += reward\n",
    "        if done:\n",
    "            break\n",
    "    scores.append(score)\n",
    "    \n",
    "\n",
    "print(scores)\n",
    "print('Average Score:',sum(scores)/len(scores))\n"
   ]
  },
  {
   "cell_type": "code",
   "execution_count": 40,
   "metadata": {
    "colab": {
     "base_uri": "https://localhost:8080/",
     "height": 421
    },
    "id": "p7GyYxgz1j_1",
    "outputId": "04b3e453-598d-456d-ba84-814ce0deab45"
   },
   "outputs": [
    {
     "data": {
      "text/html": [
       "<video alt=\"test\" autoplay \n",
       "                loop controls style=\"height: 400px;\">\n",
       "                <source src=\"data:video/mp4;base64,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\" type=\"video/mp4\" />\n",
       "             </video>"
      ],
      "text/plain": [
       "<IPython.core.display.HTML object>"
      ]
     },
     "metadata": {},
     "output_type": "display_data"
    }
   ],
   "source": [
    "show_video()"
   ]
  },
  {
   "cell_type": "markdown",
   "metadata": {
    "id": "jtydiJpH9Kuq"
   },
   "source": [
    "Agent hoàn thành tốt trò chơi với Deep Q-LEARNING."
   ]
  }
 ],
 "metadata": {
  "colab": {
   "collapsed_sections": [],
   "name": "MHNC_TH9_18110095",
   "provenance": []
  },
  "kernelspec": {
   "display_name": "Python 3",
   "language": "python",
   "name": "python3"
  },
  "language_info": {
   "codemirror_mode": {
    "name": "ipython",
    "version": 3
   },
   "file_extension": ".py",
   "mimetype": "text/x-python",
   "name": "python",
   "nbconvert_exporter": "python",
   "pygments_lexer": "ipython3",
   "version": "3.8.3"
  }
 },
 "nbformat": 4,
 "nbformat_minor": 1
}
