{
 "cells": [
  {
   "cell_type": "code",
   "execution_count": 1,
   "metadata": {},
   "outputs": [],
   "source": [
    "import numpy as np \n",
    "from sklearn.datasets import load_diabetes"
   ]
  },
  {
   "cell_type": "code",
   "execution_count": 2,
   "metadata": {},
   "outputs": [],
   "source": [
    "diabetes_X, diabetes_y = load_diabetes(return_X_y = True)\n",
    "diabetes_X_train, diabetes_y_train = diabetes_X[:-2], diabetes_y[:-2].reshape(1,-1).T\n",
    "diabetes_X_test , diabetes_y_test = diabetes_X[-2:], diabetes_y[-2:].reshape(1,-1).T"
   ]
  },
  {
   "cell_type": "markdown",
   "metadata": {},
   "source": [
    "##  1 Hãy dùng bộ dữ liệu diabetes để thiết lập mô hình Linear Regresion"
   ]
  },
  {
   "cell_type": "code",
   "execution_count": 3,
   "metadata": {},
   "outputs": [],
   "source": [
    "X_train = diabetes_X_train\n",
    "X_test = diabetes_X_test\n",
    "y_train = diabetes_y_train\n",
    "y_test = diabetes_y_test"
   ]
  },
  {
   "cell_type": "code",
   "execution_count": 4,
   "metadata": {},
   "outputs": [],
   "source": [
    "class Linear_Regression :\n",
    "    def fit(self,X_train,y_train):\n",
    "        one = np.ones((X_train.shape[0], 1))\n",
    "        self.X_train = np.concatenate((one, X_train), axis = 1)\n",
    "        A = np.dot(self.X_train.T,self.X_train)\n",
    "        b = np.dot(self.X_train.T,y_train)\n",
    "        self.W = np.dot(np.linalg.pinv(A),b)\n",
    "        \n",
    "    def predict(self,X_test,y_test):\n",
    "        one = np.ones((X_test.shape[0], 1))\n",
    "        self.X_test = np.concatenate((one, X_test), axis = 1)\n",
    "        self.y_test_predict = np.dot(self.X_test,self.W)\n",
    "        \n",
    "\n",
    "model = Linear_Regression()\n",
    "model.fit(diabetes_X_train,diabetes_y_train)\n"
   ]
  },
  {
   "cell_type": "markdown",
   "metadata": {},
   "source": [
    "## 2 Hãy tìm target values của diabetes_X_test rồi so sánh với target values trong diabetes_y_test"
   ]
  },
  {
   "cell_type": "code",
   "execution_count": 5,
   "metadata": {},
   "outputs": [],
   "source": [
    "def Mean_Squared_Err (y_true, y_predict):\n",
    "    MSE = np.square(np.subtract(y_true,y_predict)).mean()\n",
    "    return MSE"
   ]
  },
  {
   "cell_type": "code",
   "execution_count": 6,
   "metadata": {},
   "outputs": [
    {
     "name": "stdout",
     "output_type": "stream",
     "text": [
      "y_predict : [[211.74929866]\n",
      " [ 53.19292183]] \n",
      "\n",
      "y_true : [[220.]\n",
      " [ 57.]]\n"
     ]
    }
   ],
   "source": [
    "model.predict(diabetes_X_test,diabetes_y_test)\n",
    "\n",
    "y_predict = model.y_test_predict\n",
    "print('y_predict : {} \\n'.format(y_predict))\n",
    "\n",
    "print('y_true : {}'.format(diabetes_y_test))"
   ]
  },
  {
   "cell_type": "code",
   "execution_count": 7,
   "metadata": {},
   "outputs": [
    {
     "name": "stdout",
     "output_type": "stream",
     "text": [
      "Mean Squared Error : 41.284\n"
     ]
    }
   ],
   "source": [
    "\n",
    "print('Mean Squared Error : {:.3f}'.format(Mean_Squared_Err(diabetes_y_test,y_predict)))\n"
   ]
  },
  {
   "cell_type": "markdown",
   "metadata": {},
   "source": [
    "## 3 Tìm hiểu sklearn và làm lại yêu cầu câu 2 "
   ]
  },
  {
   "cell_type": "code",
   "execution_count": 8,
   "metadata": {},
   "outputs": [],
   "source": [
    "import sklearn \n",
    "from sklearn.linear_model import LinearRegression\n",
    "from sklearn.metrics import mean_squared_error\n"
   ]
  },
  {
   "cell_type": "code",
   "execution_count": 9,
   "metadata": {},
   "outputs": [
    {
     "name": "stdout",
     "output_type": "stream",
     "text": [
      "y_predict : [[211.74929866]\n",
      " [ 53.19292183]] \n",
      "\n",
      "y_true : [[220.]\n",
      " [ 57.]]\n"
     ]
    }
   ],
   "source": [
    "sklearn_model  = LinearRegression()\n",
    "sklearn_model.fit(diabetes_X_train,diabetes_y_train)\n",
    "y_predict = sklearn_model.predict(diabetes_X_test)\n",
    "\n",
    "print('y_predict : {} \\n'.format(y_predict))\n",
    "print('y_true : {}'.format(diabetes_y_test))"
   ]
  },
  {
   "cell_type": "code",
   "execution_count": 10,
   "metadata": {},
   "outputs": [
    {
     "name": "stdout",
     "output_type": "stream",
     "text": [
      "Mean Squared Error : 41.284\n"
     ]
    }
   ],
   "source": [
    "print('Mean Squared Error : {:.3f}'.format(mean_squared_error(y_predict,diabetes_y_test)))"
   ]
  },
  {
   "cell_type": "code",
   "execution_count": null,
   "metadata": {},
   "outputs": [],
   "source": []
  }
 ],
 "metadata": {
  "kernelspec": {
   "display_name": "Python 3",
   "language": "python",
   "name": "python3"
  },
  "language_info": {
   "codemirror_mode": {
    "name": "ipython",
    "version": 3
   },
   "file_extension": ".py",
   "mimetype": "text/x-python",
   "name": "python",
   "nbconvert_exporter": "python",
   "pygments_lexer": "ipython3",
   "version": "3.8.3"
  }
 },
 "nbformat": 4,
 "nbformat_minor": 4
}
